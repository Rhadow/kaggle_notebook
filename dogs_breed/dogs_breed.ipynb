{
 "cells": [
  {
   "cell_type": "markdown",
   "metadata": {},
   "source": [
    "### Setup"
   ]
  },
  {
   "cell_type": "markdown",
   "metadata": {},
   "source": [
    "#### Automatic reloading and inline plotting"
   ]
  },
  {
   "cell_type": "code",
   "execution_count": 84,
   "metadata": {},
   "outputs": [],
   "source": [
    "%reload_ext autoreload\n",
    "%autoreload 2\n",
    "%matplotlib inline"
   ]
  },
  {
   "cell_type": "markdown",
   "metadata": {},
   "source": [
    "#### Import fastai libraries"
   ]
  },
  {
   "cell_type": "code",
   "execution_count": 105,
   "metadata": {},
   "outputs": [],
   "source": [
    "# This file contains all the main external libs we'll use\n",
    "from fastai.imports import *\n",
    "from fastai.transforms import *\n",
    "from fastai.conv_learner import *\n",
    "from fastai.model import *\n",
    "from fastai.dataset import *\n",
    "from fastai.sgdr import *\n",
    "from fastai.plots import *\n",
    "import pandas as pd\n",
    "import numpy as np\n",
    "from sklearn import metrics"
   ]
  },
  {
   "cell_type": "markdown",
   "metadata": {},
   "source": [
    "#### Setup global variables"
   ]
  },
  {
   "cell_type": "code",
   "execution_count": 86,
   "metadata": {},
   "outputs": [],
   "source": [
    "PATH = \"../data/dogbreed\""
   ]
  },
  {
   "cell_type": "markdown",
   "metadata": {},
   "source": [
    "#### Check GPU are working"
   ]
  },
  {
   "cell_type": "code",
   "execution_count": 87,
   "metadata": {},
   "outputs": [
    {
     "data": {
      "text/plain": [
       "True"
      ]
     },
     "execution_count": 87,
     "metadata": {},
     "output_type": "execute_result"
    }
   ],
   "source": [
    "torch.cuda.is_available()"
   ]
  },
  {
   "cell_type": "markdown",
   "metadata": {},
   "source": [
    "### Data Inspection"
   ]
  },
  {
   "cell_type": "markdown",
   "metadata": {},
   "source": [
    "#### Read the given csv"
   ]
  },
  {
   "cell_type": "code",
   "execution_count": 88,
   "metadata": {
    "scrolled": true
   },
   "outputs": [
    {
     "data": {
      "text/html": [
       "<div>\n",
       "<style scoped>\n",
       "    .dataframe tbody tr th:only-of-type {\n",
       "        vertical-align: middle;\n",
       "    }\n",
       "\n",
       "    .dataframe tbody tr th {\n",
       "        vertical-align: top;\n",
       "    }\n",
       "\n",
       "    .dataframe thead th {\n",
       "        text-align: right;\n",
       "    }\n",
       "</style>\n",
       "<table border=\"1\" class=\"dataframe\">\n",
       "  <thead>\n",
       "    <tr style=\"text-align: right;\">\n",
       "      <th></th>\n",
       "      <th>id</th>\n",
       "      <th>breed</th>\n",
       "    </tr>\n",
       "  </thead>\n",
       "  <tbody>\n",
       "    <tr>\n",
       "      <th>0</th>\n",
       "      <td>000bec180eb18c7604dcecc8fe0dba07</td>\n",
       "      <td>boston_bull</td>\n",
       "    </tr>\n",
       "    <tr>\n",
       "      <th>1</th>\n",
       "      <td>001513dfcb2ffafc82cccf4d8bbaba97</td>\n",
       "      <td>dingo</td>\n",
       "    </tr>\n",
       "    <tr>\n",
       "      <th>2</th>\n",
       "      <td>001cdf01b096e06d78e9e5112d419397</td>\n",
       "      <td>pekinese</td>\n",
       "    </tr>\n",
       "    <tr>\n",
       "      <th>3</th>\n",
       "      <td>00214f311d5d2247d5dfe4fe24b2303d</td>\n",
       "      <td>bluetick</td>\n",
       "    </tr>\n",
       "    <tr>\n",
       "      <th>4</th>\n",
       "      <td>0021f9ceb3235effd7fcde7f7538ed62</td>\n",
       "      <td>golden_retriever</td>\n",
       "    </tr>\n",
       "  </tbody>\n",
       "</table>\n",
       "</div>"
      ],
      "text/plain": [
       "                                 id             breed\n",
       "0  000bec180eb18c7604dcecc8fe0dba07       boston_bull\n",
       "1  001513dfcb2ffafc82cccf4d8bbaba97             dingo\n",
       "2  001cdf01b096e06d78e9e5112d419397          pekinese\n",
       "3  00214f311d5d2247d5dfe4fe24b2303d          bluetick\n",
       "4  0021f9ceb3235effd7fcde7f7538ed62  golden_retriever"
      ]
     },
     "execution_count": 88,
     "metadata": {},
     "output_type": "execute_result"
    }
   ],
   "source": [
    "df = pd.read_csv(f'{PATH}/labels.csv')\n",
    "df.head()"
   ]
  },
  {
   "cell_type": "code",
   "execution_count": 89,
   "metadata": {
    "scrolled": true
   },
   "outputs": [
    {
     "data": {
      "text/html": [
       "<div>\n",
       "<style scoped>\n",
       "    .dataframe tbody tr th:only-of-type {\n",
       "        vertical-align: middle;\n",
       "    }\n",
       "\n",
       "    .dataframe tbody tr th {\n",
       "        vertical-align: top;\n",
       "    }\n",
       "\n",
       "    .dataframe thead th {\n",
       "        text-align: right;\n",
       "    }\n",
       "</style>\n",
       "<table border=\"1\" class=\"dataframe\">\n",
       "  <thead>\n",
       "    <tr style=\"text-align: right;\">\n",
       "      <th></th>\n",
       "      <th>id</th>\n",
       "    </tr>\n",
       "    <tr>\n",
       "      <th>breed</th>\n",
       "      <th></th>\n",
       "    </tr>\n",
       "  </thead>\n",
       "  <tbody>\n",
       "    <tr>\n",
       "      <th>scottish_deerhound</th>\n",
       "      <td>126</td>\n",
       "    </tr>\n",
       "    <tr>\n",
       "      <th>maltese_dog</th>\n",
       "      <td>117</td>\n",
       "    </tr>\n",
       "    <tr>\n",
       "      <th>afghan_hound</th>\n",
       "      <td>116</td>\n",
       "    </tr>\n",
       "    <tr>\n",
       "      <th>entlebucher</th>\n",
       "      <td>115</td>\n",
       "    </tr>\n",
       "    <tr>\n",
       "      <th>bernese_mountain_dog</th>\n",
       "      <td>114</td>\n",
       "    </tr>\n",
       "    <tr>\n",
       "      <th>shih-tzu</th>\n",
       "      <td>112</td>\n",
       "    </tr>\n",
       "    <tr>\n",
       "      <th>great_pyrenees</th>\n",
       "      <td>111</td>\n",
       "    </tr>\n",
       "    <tr>\n",
       "      <th>pomeranian</th>\n",
       "      <td>111</td>\n",
       "    </tr>\n",
       "    <tr>\n",
       "      <th>basenji</th>\n",
       "      <td>110</td>\n",
       "    </tr>\n",
       "    <tr>\n",
       "      <th>samoyed</th>\n",
       "      <td>109</td>\n",
       "    </tr>\n",
       "    <tr>\n",
       "      <th>airedale</th>\n",
       "      <td>107</td>\n",
       "    </tr>\n",
       "    <tr>\n",
       "      <th>tibetan_terrier</th>\n",
       "      <td>107</td>\n",
       "    </tr>\n",
       "    <tr>\n",
       "      <th>leonberg</th>\n",
       "      <td>106</td>\n",
       "    </tr>\n",
       "    <tr>\n",
       "      <th>cairn</th>\n",
       "      <td>106</td>\n",
       "    </tr>\n",
       "    <tr>\n",
       "      <th>beagle</th>\n",
       "      <td>105</td>\n",
       "    </tr>\n",
       "    <tr>\n",
       "      <th>japanese_spaniel</th>\n",
       "      <td>105</td>\n",
       "    </tr>\n",
       "    <tr>\n",
       "      <th>australian_terrier</th>\n",
       "      <td>102</td>\n",
       "    </tr>\n",
       "    <tr>\n",
       "      <th>blenheim_spaniel</th>\n",
       "      <td>102</td>\n",
       "    </tr>\n",
       "    <tr>\n",
       "      <th>miniature_pinscher</th>\n",
       "      <td>102</td>\n",
       "    </tr>\n",
       "    <tr>\n",
       "      <th>irish_wolfhound</th>\n",
       "      <td>101</td>\n",
       "    </tr>\n",
       "    <tr>\n",
       "      <th>lakeland_terrier</th>\n",
       "      <td>99</td>\n",
       "    </tr>\n",
       "    <tr>\n",
       "      <th>saluki</th>\n",
       "      <td>99</td>\n",
       "    </tr>\n",
       "    <tr>\n",
       "      <th>papillon</th>\n",
       "      <td>96</td>\n",
       "    </tr>\n",
       "    <tr>\n",
       "      <th>whippet</th>\n",
       "      <td>95</td>\n",
       "    </tr>\n",
       "    <tr>\n",
       "      <th>siberian_husky</th>\n",
       "      <td>95</td>\n",
       "    </tr>\n",
       "    <tr>\n",
       "      <th>norwegian_elkhound</th>\n",
       "      <td>95</td>\n",
       "    </tr>\n",
       "    <tr>\n",
       "      <th>pug</th>\n",
       "      <td>94</td>\n",
       "    </tr>\n",
       "    <tr>\n",
       "      <th>chow</th>\n",
       "      <td>93</td>\n",
       "    </tr>\n",
       "    <tr>\n",
       "      <th>italian_greyhound</th>\n",
       "      <td>92</td>\n",
       "    </tr>\n",
       "    <tr>\n",
       "      <th>pembroke</th>\n",
       "      <td>92</td>\n",
       "    </tr>\n",
       "    <tr>\n",
       "      <th>...</th>\n",
       "      <td>...</td>\n",
       "    </tr>\n",
       "    <tr>\n",
       "      <th>german_short-haired_pointer</th>\n",
       "      <td>75</td>\n",
       "    </tr>\n",
       "    <tr>\n",
       "      <th>boxer</th>\n",
       "      <td>75</td>\n",
       "    </tr>\n",
       "    <tr>\n",
       "      <th>bull_mastiff</th>\n",
       "      <td>75</td>\n",
       "    </tr>\n",
       "    <tr>\n",
       "      <th>borzoi</th>\n",
       "      <td>75</td>\n",
       "    </tr>\n",
       "    <tr>\n",
       "      <th>pekinese</th>\n",
       "      <td>75</td>\n",
       "    </tr>\n",
       "    <tr>\n",
       "      <th>cocker_spaniel</th>\n",
       "      <td>74</td>\n",
       "    </tr>\n",
       "    <tr>\n",
       "      <th>american_staffordshire_terrier</th>\n",
       "      <td>74</td>\n",
       "    </tr>\n",
       "    <tr>\n",
       "      <th>doberman</th>\n",
       "      <td>74</td>\n",
       "    </tr>\n",
       "    <tr>\n",
       "      <th>brittany_spaniel</th>\n",
       "      <td>73</td>\n",
       "    </tr>\n",
       "    <tr>\n",
       "      <th>malinois</th>\n",
       "      <td>73</td>\n",
       "    </tr>\n",
       "    <tr>\n",
       "      <th>standard_schnauzer</th>\n",
       "      <td>72</td>\n",
       "    </tr>\n",
       "    <tr>\n",
       "      <th>flat-coated_retriever</th>\n",
       "      <td>72</td>\n",
       "    </tr>\n",
       "    <tr>\n",
       "      <th>redbone</th>\n",
       "      <td>72</td>\n",
       "    </tr>\n",
       "    <tr>\n",
       "      <th>border_collie</th>\n",
       "      <td>72</td>\n",
       "    </tr>\n",
       "    <tr>\n",
       "      <th>curly-coated_retriever</th>\n",
       "      <td>72</td>\n",
       "    </tr>\n",
       "    <tr>\n",
       "      <th>kuvasz</th>\n",
       "      <td>71</td>\n",
       "    </tr>\n",
       "    <tr>\n",
       "      <th>chihuahua</th>\n",
       "      <td>71</td>\n",
       "    </tr>\n",
       "    <tr>\n",
       "      <th>soft-coated_wheaten_terrier</th>\n",
       "      <td>71</td>\n",
       "    </tr>\n",
       "    <tr>\n",
       "      <th>french_bulldog</th>\n",
       "      <td>70</td>\n",
       "    </tr>\n",
       "    <tr>\n",
       "      <th>vizsla</th>\n",
       "      <td>70</td>\n",
       "    </tr>\n",
       "    <tr>\n",
       "      <th>tibetan_mastiff</th>\n",
       "      <td>69</td>\n",
       "    </tr>\n",
       "    <tr>\n",
       "      <th>german_shepherd</th>\n",
       "      <td>69</td>\n",
       "    </tr>\n",
       "    <tr>\n",
       "      <th>giant_schnauzer</th>\n",
       "      <td>69</td>\n",
       "    </tr>\n",
       "    <tr>\n",
       "      <th>walker_hound</th>\n",
       "      <td>69</td>\n",
       "    </tr>\n",
       "    <tr>\n",
       "      <th>otterhound</th>\n",
       "      <td>69</td>\n",
       "    </tr>\n",
       "    <tr>\n",
       "      <th>golden_retriever</th>\n",
       "      <td>67</td>\n",
       "    </tr>\n",
       "    <tr>\n",
       "      <th>brabancon_griffon</th>\n",
       "      <td>67</td>\n",
       "    </tr>\n",
       "    <tr>\n",
       "      <th>komondor</th>\n",
       "      <td>67</td>\n",
       "    </tr>\n",
       "    <tr>\n",
       "      <th>briard</th>\n",
       "      <td>66</td>\n",
       "    </tr>\n",
       "    <tr>\n",
       "      <th>eskimo_dog</th>\n",
       "      <td>66</td>\n",
       "    </tr>\n",
       "  </tbody>\n",
       "</table>\n",
       "<p>120 rows × 1 columns</p>\n",
       "</div>"
      ],
      "text/plain": [
       "                                 id\n",
       "breed                              \n",
       "scottish_deerhound              126\n",
       "maltese_dog                     117\n",
       "afghan_hound                    116\n",
       "entlebucher                     115\n",
       "bernese_mountain_dog            114\n",
       "shih-tzu                        112\n",
       "great_pyrenees                  111\n",
       "pomeranian                      111\n",
       "basenji                         110\n",
       "samoyed                         109\n",
       "airedale                        107\n",
       "tibetan_terrier                 107\n",
       "leonberg                        106\n",
       "cairn                           106\n",
       "beagle                          105\n",
       "japanese_spaniel                105\n",
       "australian_terrier              102\n",
       "blenheim_spaniel                102\n",
       "miniature_pinscher              102\n",
       "irish_wolfhound                 101\n",
       "lakeland_terrier                 99\n",
       "saluki                           99\n",
       "papillon                         96\n",
       "whippet                          95\n",
       "siberian_husky                   95\n",
       "norwegian_elkhound               95\n",
       "pug                              94\n",
       "chow                             93\n",
       "italian_greyhound                92\n",
       "pembroke                         92\n",
       "...                             ...\n",
       "german_short-haired_pointer      75\n",
       "boxer                            75\n",
       "bull_mastiff                     75\n",
       "borzoi                           75\n",
       "pekinese                         75\n",
       "cocker_spaniel                   74\n",
       "american_staffordshire_terrier   74\n",
       "doberman                         74\n",
       "brittany_spaniel                 73\n",
       "malinois                         73\n",
       "standard_schnauzer               72\n",
       "flat-coated_retriever            72\n",
       "redbone                          72\n",
       "border_collie                    72\n",
       "curly-coated_retriever           72\n",
       "kuvasz                           71\n",
       "chihuahua                        71\n",
       "soft-coated_wheaten_terrier      71\n",
       "french_bulldog                   70\n",
       "vizsla                           70\n",
       "tibetan_mastiff                  69\n",
       "german_shepherd                  69\n",
       "giant_schnauzer                  69\n",
       "walker_hound                     69\n",
       "otterhound                       69\n",
       "golden_retriever                 67\n",
       "brabancon_griffon                67\n",
       "komondor                         67\n",
       "briard                           66\n",
       "eskimo_dog                       66\n",
       "\n",
       "[120 rows x 1 columns]"
      ]
     },
     "execution_count": 89,
     "metadata": {},
     "output_type": "execute_result"
    }
   ],
   "source": [
    "df_by_breed = df.pivot_table(aggfunc=len, index=\"breed\")\n",
    "df_by_breed.sort_values(by=\"id\", ascending=False)"
   ]
  },
  {
   "cell_type": "markdown",
   "metadata": {},
   "source": [
    "#### Read one training image"
   ]
  },
  {
   "cell_type": "code",
   "execution_count": 90,
   "metadata": {},
   "outputs": [
    {
     "data": {
      "text/plain": [
       "<matplotlib.image.AxesImage at 0x2e14caf2940>"
      ]
     },
     "execution_count": 90,
     "metadata": {},
     "output_type": "execute_result"
    },
    {
     "data": {
      "image/png": "[encoded data removed]",
      "text/plain": [
       "<Figure size 432x288 with 1 Axes>"
      ]
     },
     "metadata": {
      "needs_background": "light"
     },
     "output_type": "display_data"
    }
   ],
   "source": [
    "train_file_names = os.listdir(f'{PATH}/train/')\n",
    "train_img = plt.imread(f'{PATH}/train/{train_file_names[0]}')\n",
    "plt.imshow(train_img)"
   ]
  },
  {
   "cell_type": "code",
   "execution_count": 91,
   "metadata": {},
   "outputs": [
    {
     "data": {
      "text/plain": [
       "(375, 500, 3)"
      ]
     },
     "execution_count": 91,
     "metadata": {},
     "output_type": "execute_result"
    }
   ],
   "source": [
    "train_img.shape"
   ]
  },
  {
   "cell_type": "code",
   "execution_count": 92,
   "metadata": {},
   "outputs": [],
   "source": [
    "filename_shape_map = {file_name: PIL.Image.open(f'{PATH}/train/{file_name}').size for file_name in train_file_names}"
   ]
  },
  {
   "cell_type": "code",
   "execution_count": 93,
   "metadata": {},
   "outputs": [],
   "source": [
    "row_size, col_size = zip(*filename_shape_map.values())"
   ]
  },
  {
   "cell_type": "code",
   "execution_count": 94,
   "metadata": {},
   "outputs": [
    {
     "data": {
      "text/plain": [
       "(array([3798., 6259.,  108.,   18.,   11.,    4.,   19.,    2.,    1.,    2.]),\n",
       " array([  97. ,  413.7,  730.4, 1047.1, 1363.8, 1680.5, 1997.2, 2313.9, 2630.6, 2947.3, 3264. ]),\n",
       " <a list of 10 Patch objects>)"
      ]
     },
     "execution_count": 94,
     "metadata": {},
     "output_type": "execute_result"
    },
    {
     "data": {
      "image/png": "[encoded data removed]",
      "text/plain": [
       "<Figure size 432x288 with 1 Axes>"
      ]
     },
     "metadata": {
      "needs_background": "light"
     },
     "output_type": "display_data"
    }
   ],
   "source": [
    "plt.hist(row_size)"
   ]
  },
  {
   "cell_type": "code",
   "execution_count": 95,
   "metadata": {},
   "outputs": [
    {
     "data": {
      "text/plain": [
       "(array([3595., 6395.,  150.,   28.,   18.,   20.,   10.,    3.,    0.,    3.]),\n",
       " array([ 102.,  348.,  594.,  840., 1086., 1332., 1578., 1824., 2070., 2316., 2562.]),\n",
       " <a list of 10 Patch objects>)"
      ]
     },
     "execution_count": 95,
     "metadata": {},
     "output_type": "execute_result"
    },
    {
     "data": {
      "image/png": "[encoded data removed]",
      "text/plain": [
       "<Figure size 432x288 with 1 Axes>"
      ]
     },
     "metadata": {
      "needs_background": "light"
     },
     "output_type": "display_data"
    }
   ],
   "source": [
    "plt.hist(col_size)"
   ]
  },
  {
   "cell_type": "markdown",
   "metadata": {},
   "source": [
    "### Training "
   ]
  },
  {
   "cell_type": "markdown",
   "metadata": {},
   "source": [
    "#### Set parameters"
   ]
  },
  {
   "cell_type": "code",
   "execution_count": 96,
   "metadata": {},
   "outputs": [],
   "source": [
    "image_size = 224\n",
    "arch = resnext101_64\n",
    "batch_size = 28\n",
    "train_file_length = df.shape[0]"
   ]
  },
  {
   "cell_type": "markdown",
   "metadata": {},
   "source": [
    "#### Define get_data function to do data augmentation for different params"
   ]
  },
  {
   "cell_type": "code",
   "execution_count": 137,
   "metadata": {},
   "outputs": [],
   "source": [
    "def get_data(arch, image_size, batch_size, use_full_training_set=False):\n",
    "    val_idxs = None if use_full_training_set else get_cv_idxs(train_file_length)\n",
    "    tfms = tfms_from_model(arch, image_size, aug_tfms=transforms_side_on, max_zoom=1.1)\n",
    "    return ImageClassifierData.from_csv(PATH, 'train', f'{PATH}/labels.csv', batch_size, tfms=tfms, suffix='.jpg', val_idxs=val_idxs, test_name='test')"
   ]
  },
  {
   "cell_type": "markdown",
   "metadata": {},
   "source": [
    "#### Model setup"
   ]
  },
  {
   "cell_type": "code",
   "execution_count": 99,
   "metadata": {},
   "outputs": [
    {
     "name": "stderr",
     "output_type": "stream",
     "text": [
      "C:\\Users\\I863552\\AppData\\Local\\Continuum\\anaconda3\\envs\\fastai\\lib\\site-packages\\fastai\\initializers.py:6: UserWarning: nn.init.kaiming_normal is now deprecated in favor of nn.init.kaiming_normal_.\n",
      "  if hasattr(m, 'weight'): init_fn(m.weight)\n",
      "C:\\Users\\I863552\\AppData\\Local\\Continuum\\anaconda3\\envs\\fastai\\lib\\site-packages\\fastai\\initializers.py:6: UserWarning: nn.init.kaiming_normal is now deprecated in favor of nn.init.kaiming_normal_.\n",
      "  if hasattr(m, 'weight'): init_fn(m.weight)\n"
     ]
    }
   ],
   "source": [
    "data = get_data(arch, image_size, batch_size)\n",
    "learn = ConvLearner.pretrained(arch, data, precompute=False)"
   ]
  },
  {
   "cell_type": "markdown",
   "metadata": {},
   "source": [
    "#### Learn with image isze 224"
   ]
  },
  {
   "cell_type": "code",
   "execution_count": 100,
   "metadata": {},
   "outputs": [
    {
     "data": {
      "application/vnd.jupyter.widget-view+json": {
       "model_id": "37174f105aeb4b2cb9846c0a78955616",
       "version_major": 2,
       "version_minor": 0
      },
      "text/plain": [
       "HBox(children=(IntProgress(value=0, description='Epoch', max=1), HTML(value='')))"
      ]
     },
     "metadata": {},
     "output_type": "display_data"
    },
    {
     "name": "stdout",
     "output_type": "stream",
     "text": [
      " 85%|███████████████████████████████████████████████████████████████▏          | 250/293 [16:54<02:53,  4.03s/it, loss=9.23]"
     ]
    }
   ],
   "source": [
    "learn.lr_find()"
   ]
  },
  {
   "cell_type": "code",
   "execution_count": 101,
   "metadata": {},
   "outputs": [
    {
     "data": {
      "image/png": "[encoded data removed]",
      "text/plain": [
       "<Figure size 432x288 with 1 Axes>"
      ]
     },
     "metadata": {
      "needs_background": "light"
     },
     "output_type": "display_data"
    }
   ],
   "source": [
    "learn.sched.plot()"
   ]
  },
  {
   "cell_type": "code",
   "execution_count": 103,
   "metadata": {},
   "outputs": [
    {
     "data": {
      "application/vnd.jupyter.widget-view+json": {
       "model_id": "42edd6f0a63446d09e35be7b647c1af1",
       "version_major": 2,
       "version_minor": 0
      },
      "text/plain": [
       "HBox(children=(IntProgress(value=0, description='Epoch', max=2), HTML(value='')))"
      ]
     },
     "metadata": {},
     "output_type": "display_data"
    },
    {
     "name": "stdout",
     "output_type": "stream",
     "text": [
      "epoch      trn_loss   val_loss   accuracy                                                                                   \n",
      "    0      0.615831   0.277374   0.906556  \n",
      "    1      0.545404   0.264125   0.913405                                                                                   \n"
     ]
    },
    {
     "data": {
      "text/plain": [
       "[0.26412468378062115, 0.9134051228222781]"
      ]
     },
     "execution_count": 103,
     "metadata": {},
     "output_type": "execute_result"
    }
   ],
   "source": [
    "learn.fit(1e-1, 2, cycle_len=1)"
   ]
  },
  {
   "cell_type": "code",
   "execution_count": 106,
   "metadata": {},
   "outputs": [
    {
     "name": "stdout",
     "output_type": "stream",
     "text": [
      "                                                                                                                            \r"
     ]
    },
    {
     "data": {
      "text/plain": [
       "(0.9197651663405088, 0.2562789846147671)"
      ]
     },
     "execution_count": 106,
     "metadata": {},
     "output_type": "execute_result"
    }
   ],
   "source": [
    "log_preds, y = learn.TTA()\n",
    "probs = np.mean(np.exp(log_preds), 0)\n",
    "accuracy_np(probs, y), metrics.log_loss(y, probs)"
   ]
  },
  {
   "cell_type": "code",
   "execution_count": 107,
   "metadata": {},
   "outputs": [],
   "source": [
    "learn.save('last_224')"
   ]
  },
  {
   "cell_type": "code",
   "execution_count": 124,
   "metadata": {},
   "outputs": [],
   "source": [
    "learn.load('last_224')"
   ]
  },
  {
   "cell_type": "markdown",
   "metadata": {},
   "source": [
    "#### Learn with Image size 270"
   ]
  },
  {
   "cell_type": "code",
   "execution_count": 133,
   "metadata": {},
   "outputs": [],
   "source": [
    "batch_size = 10\n",
    "learn.set_data(get_data(arch, 270, batch_size))"
   ]
  },
  {
   "cell_type": "code",
   "execution_count": 134,
   "metadata": {},
   "outputs": [
    {
     "data": {
      "application/vnd.jupyter.widget-view+json": {
       "model_id": "b63b0095e3544a119538e8b87475bc4b",
       "version_major": 2,
       "version_minor": 0
      },
      "text/plain": [
       "HBox(children=(IntProgress(value=0, description='Epoch', max=1), HTML(value='')))"
      ]
     },
     "metadata": {},
     "output_type": "display_data"
    },
    {
     "name": "stdout",
     "output_type": "stream",
     "text": [
      " 72%|████████████████████████████████████████████████████▉                     | 585/818 [21:59<08:30,  2.19s/it, loss=1.63]"
     ]
    }
   ],
   "source": [
    "learn.lr_find()"
   ]
  },
  {
   "cell_type": "code",
   "execution_count": 135,
   "metadata": {},
   "outputs": [
    {
     "data": {
      "image/png": "[encoded data removed]",
      "text/plain": [
       "<Figure size 432x288 with 1 Axes>"
      ]
     },
     "metadata": {
      "needs_background": "light"
     },
     "output_type": "display_data"
    }
   ],
   "source": [
    "learn.sched.plot()"
   ]
  },
  {
   "cell_type": "code",
   "execution_count": 136,
   "metadata": {},
   "outputs": [
    {
     "data": {
      "application/vnd.jupyter.widget-view+json": {
       "model_id": "e28775eb4770419192103fd2224290fb",
       "version_major": 2,
       "version_minor": 0
      },
      "text/plain": [
       "HBox(children=(IntProgress(value=0, description='Epoch', max=7), HTML(value='')))"
      ]
     },
     "metadata": {},
     "output_type": "display_data"
    },
    {
     "name": "stdout",
     "output_type": "stream",
     "text": [
      "epoch      trn_loss   val_loss   accuracy                                                                                   \n",
      "    0      0.361433   0.23544    0.924168  \n",
      "    1      0.388783   0.217777   0.929061                                                                                   \n",
      "    2      0.269502   0.209293   0.932975                                                                                   \n",
      "    3      0.374709   0.211132   0.933953                                                                                   \n",
      "    4      0.244373   0.206086   0.933464                                                                                   \n",
      "    5      0.200205   0.196654   0.934932                                                                                   \n",
      "    6      0.231063   0.1934     0.935421                                                                                   \n"
     ]
    },
    {
     "data": {
      "text/plain": [
       "[0.193400268276849, 0.9354207539045181]"
      ]
     },
     "execution_count": 136,
     "metadata": {},
     "output_type": "execute_result"
    }
   ],
   "source": [
    "learn.fit(1e-2, 3, cycle_len=1, cycle_mult=2)"
   ]
  },
  {
   "cell_type": "code",
   "execution_count": 138,
   "metadata": {},
   "outputs": [
    {
     "name": "stdout",
     "output_type": "stream",
     "text": [
      "                                                                                                                            \r"
     ]
    },
    {
     "data": {
      "text/plain": [
       "(0.9403131115459883, 0.1872206375057148)"
      ]
     },
     "execution_count": 138,
     "metadata": {},
     "output_type": "execute_result"
    }
   ],
   "source": [
    "log_preds, y = learn.TTA()\n",
    "probs = np.mean(np.exp(log_preds), 0)\n",
    "accuracy_np(probs, y), metrics.log_loss(y, probs)"
   ]
  },
  {
   "cell_type": "code",
   "execution_count": 139,
   "metadata": {},
   "outputs": [],
   "source": [
    "learn.save('last_270')"
   ]
  },
  {
   "cell_type": "code",
   "execution_count": 140,
   "metadata": {},
   "outputs": [],
   "source": [
    "learn.load('last_270')"
   ]
  },
  {
   "cell_type": "markdown",
   "metadata": {},
   "source": [
    "#### Learn with two epochs per cycle"
   ]
  },
  {
   "cell_type": "code",
   "execution_count": 143,
   "metadata": {},
   "outputs": [
    {
     "data": {
      "application/vnd.jupyter.widget-view+json": {
       "model_id": "d333911428e1470581f7fcc50179d665",
       "version_major": 2,
       "version_minor": 0
      },
      "text/plain": [
       "HBox(children=(IntProgress(value=0, description='Epoch', max=2), HTML(value='')))"
      ]
     },
     "metadata": {},
     "output_type": "display_data"
    },
    {
     "name": "stdout",
     "output_type": "stream",
     "text": [
      "epoch      trn_loss   val_loss   accuracy                                                                                   \n",
      "    0      0.215995   0.20751    0.933953  \n",
      "    1      0.221659   0.190905   0.941292                                                                                   \n"
     ]
    },
    {
     "data": {
      "text/plain": [
       "[0.1909053924670279, 0.9412915967915156]"
      ]
     },
     "execution_count": 143,
     "metadata": {},
     "output_type": "execute_result"
    }
   ],
   "source": [
    "learn.fit(1e-2, 1, cycle_len=2)"
   ]
  },
  {
   "cell_type": "code",
   "execution_count": 144,
   "metadata": {},
   "outputs": [
    {
     "name": "stdout",
     "output_type": "stream",
     "text": [
      "                                                                                                                            \r"
     ]
    },
    {
     "data": {
      "text/plain": [
       "(0.9417808219178082, 0.18531606869174128)"
      ]
     },
     "execution_count": 144,
     "metadata": {},
     "output_type": "execute_result"
    }
   ],
   "source": [
    "log_preds, y = learn.TTA()\n",
    "probs = np.mean(np.exp(log_preds), 0)\n",
    "accuracy_np(probs, y), metrics.log_loss(y, probs)"
   ]
  },
  {
   "cell_type": "code",
   "execution_count": 145,
   "metadata": {},
   "outputs": [],
   "source": [
    "learn.save('last_270_cycle_2')"
   ]
  },
  {
   "cell_type": "code",
   "execution_count": 146,
   "metadata": {},
   "outputs": [],
   "source": [
    "learn.load('last_270_cycle_2')"
   ]
  },
  {
   "cell_type": "markdown",
   "metadata": {},
   "source": [
    "### Generate output"
   ]
  },
  {
   "cell_type": "code",
   "execution_count": 151,
   "metadata": {},
   "outputs": [
    {
     "name": "stdout",
     "output_type": "stream",
     "text": [
      "                                                                                                                            \r"
     ]
    }
   ],
   "source": [
    "log_preds, y = learn.TTA(is_test=True)"
   ]
  },
  {
   "cell_type": "code",
   "execution_count": 152,
   "metadata": {},
   "outputs": [],
   "source": [
    "probs = np.mean(np.exp(log_preds), 0)"
   ]
  },
  {
   "cell_type": "code",
   "execution_count": 153,
   "metadata": {},
   "outputs": [
    {
     "data": {
      "text/html": [
       "<div>\n",
       "<style scoped>\n",
       "    .dataframe tbody tr th:only-of-type {\n",
       "        vertical-align: middle;\n",
       "    }\n",
       "\n",
       "    .dataframe tbody tr th {\n",
       "        vertical-align: top;\n",
       "    }\n",
       "\n",
       "    .dataframe thead th {\n",
       "        text-align: right;\n",
       "    }\n",
       "</style>\n",
       "<table border=\"1\" class=\"dataframe\">\n",
       "  <thead>\n",
       "    <tr style=\"text-align: right;\">\n",
       "      <th></th>\n",
       "      <th>affenpinscher</th>\n",
       "      <th>afghan_hound</th>\n",
       "      <th>african_hunting_dog</th>\n",
       "      <th>airedale</th>\n",
       "      <th>american_staffordshire_terrier</th>\n",
       "      <th>appenzeller</th>\n",
       "      <th>australian_terrier</th>\n",
       "      <th>basenji</th>\n",
       "      <th>basset</th>\n",
       "      <th>beagle</th>\n",
       "      <th>...</th>\n",
       "      <th>toy_poodle</th>\n",
       "      <th>toy_terrier</th>\n",
       "      <th>vizsla</th>\n",
       "      <th>walker_hound</th>\n",
       "      <th>weimaraner</th>\n",
       "      <th>welsh_springer_spaniel</th>\n",
       "      <th>west_highland_white_terrier</th>\n",
       "      <th>whippet</th>\n",
       "      <th>wire-haired_fox_terrier</th>\n",
       "      <th>yorkshire_terrier</th>\n",
       "    </tr>\n",
       "  </thead>\n",
       "  <tbody>\n",
       "    <tr>\n",
       "      <th>0</th>\n",
       "      <td>4.834102e-09</td>\n",
       "      <td>4.355550e-08</td>\n",
       "      <td>3.876562e-08</td>\n",
       "      <td>2.175530e-09</td>\n",
       "      <td>4.236528e-11</td>\n",
       "      <td>9.909140e-10</td>\n",
       "      <td>7.161697e-11</td>\n",
       "      <td>8.400049e-11</td>\n",
       "      <td>3.820907e-09</td>\n",
       "      <td>2.474053e-10</td>\n",
       "      <td>...</td>\n",
       "      <td>3.921362e-09</td>\n",
       "      <td>7.549177e-10</td>\n",
       "      <td>3.652739e-09</td>\n",
       "      <td>3.209318e-11</td>\n",
       "      <td>1.422727e-09</td>\n",
       "      <td>1.174035e-09</td>\n",
       "      <td>8.915237e-10</td>\n",
       "      <td>9.993027e-09</td>\n",
       "      <td>4.355581e-08</td>\n",
       "      <td>3.770044e-09</td>\n",
       "    </tr>\n",
       "    <tr>\n",
       "      <th>1</th>\n",
       "      <td>4.221547e-10</td>\n",
       "      <td>4.450466e-11</td>\n",
       "      <td>5.892450e-10</td>\n",
       "      <td>5.466967e-11</td>\n",
       "      <td>8.425902e-12</td>\n",
       "      <td>6.693747e-10</td>\n",
       "      <td>4.157698e-10</td>\n",
       "      <td>8.482861e-11</td>\n",
       "      <td>1.756156e-10</td>\n",
       "      <td>1.549563e-10</td>\n",
       "      <td>...</td>\n",
       "      <td>3.055317e-10</td>\n",
       "      <td>2.951994e-11</td>\n",
       "      <td>5.758611e-11</td>\n",
       "      <td>1.055312e-12</td>\n",
       "      <td>4.920465e-09</td>\n",
       "      <td>9.764428e-10</td>\n",
       "      <td>5.276398e-07</td>\n",
       "      <td>6.441013e-11</td>\n",
       "      <td>6.711729e-10</td>\n",
       "      <td>1.506249e-11</td>\n",
       "    </tr>\n",
       "    <tr>\n",
       "      <th>2</th>\n",
       "      <td>1.305640e-11</td>\n",
       "      <td>3.371915e-08</td>\n",
       "      <td>1.163033e-09</td>\n",
       "      <td>4.626399e-11</td>\n",
       "      <td>1.112048e-12</td>\n",
       "      <td>2.314831e-11</td>\n",
       "      <td>9.149927e-12</td>\n",
       "      <td>4.125299e-13</td>\n",
       "      <td>1.301926e-10</td>\n",
       "      <td>4.158079e-12</td>\n",
       "      <td>...</td>\n",
       "      <td>1.974644e-11</td>\n",
       "      <td>1.254403e-11</td>\n",
       "      <td>8.358226e-12</td>\n",
       "      <td>9.744035e-11</td>\n",
       "      <td>3.976827e-10</td>\n",
       "      <td>6.740107e-08</td>\n",
       "      <td>1.564678e-12</td>\n",
       "      <td>2.482762e-11</td>\n",
       "      <td>2.279589e-11</td>\n",
       "      <td>8.462171e-11</td>\n",
       "    </tr>\n",
       "    <tr>\n",
       "      <th>3</th>\n",
       "      <td>2.595160e-02</td>\n",
       "      <td>3.878163e-05</td>\n",
       "      <td>1.024659e-04</td>\n",
       "      <td>4.594239e-03</td>\n",
       "      <td>9.502173e-06</td>\n",
       "      <td>1.617590e-03</td>\n",
       "      <td>8.621982e-06</td>\n",
       "      <td>4.441509e-04</td>\n",
       "      <td>2.616692e-05</td>\n",
       "      <td>1.323076e-04</td>\n",
       "      <td>...</td>\n",
       "      <td>5.601831e-04</td>\n",
       "      <td>7.199783e-06</td>\n",
       "      <td>1.364313e-03</td>\n",
       "      <td>7.456335e-06</td>\n",
       "      <td>1.431824e-04</td>\n",
       "      <td>1.165098e-05</td>\n",
       "      <td>1.216035e-05</td>\n",
       "      <td>1.066452e-03</td>\n",
       "      <td>2.322817e-05</td>\n",
       "      <td>8.490178e-04</td>\n",
       "    </tr>\n",
       "    <tr>\n",
       "      <th>4</th>\n",
       "      <td>2.081964e-01</td>\n",
       "      <td>4.649780e-06</td>\n",
       "      <td>3.332705e-07</td>\n",
       "      <td>1.737867e-06</td>\n",
       "      <td>1.666894e-07</td>\n",
       "      <td>4.688316e-07</td>\n",
       "      <td>1.115694e-05</td>\n",
       "      <td>8.384828e-08</td>\n",
       "      <td>8.849059e-07</td>\n",
       "      <td>2.271098e-07</td>\n",
       "      <td>...</td>\n",
       "      <td>3.470456e-06</td>\n",
       "      <td>2.071163e-07</td>\n",
       "      <td>5.129667e-07</td>\n",
       "      <td>4.678199e-08</td>\n",
       "      <td>1.463881e-08</td>\n",
       "      <td>1.967276e-06</td>\n",
       "      <td>6.350263e-07</td>\n",
       "      <td>5.178881e-07</td>\n",
       "      <td>8.700481e-05</td>\n",
       "      <td>8.347528e-05</td>\n",
       "    </tr>\n",
       "  </tbody>\n",
       "</table>\n",
       "<p>5 rows × 120 columns</p>\n",
       "</div>"
      ],
      "text/plain": [
       "   affenpinscher  afghan_hound  african_hunting_dog      airedale  \\\n",
       "0   4.834102e-09  4.355550e-08         3.876562e-08  2.175530e-09   \n",
       "1   4.221547e-10  4.450466e-11         5.892450e-10  5.466967e-11   \n",
       "2   1.305640e-11  3.371915e-08         1.163033e-09  4.626399e-11   \n",
       "3   2.595160e-02  3.878163e-05         1.024659e-04  4.594239e-03   \n",
       "4   2.081964e-01  4.649780e-06         3.332705e-07  1.737867e-06   \n",
       "\n",
       "   american_staffordshire_terrier   appenzeller  australian_terrier  \\\n",
       "0                    4.236528e-11  9.909140e-10        7.161697e-11   \n",
       "1                    8.425902e-12  6.693747e-10        4.157698e-10   \n",
       "2                    1.112048e-12  2.314831e-11        9.149927e-12   \n",
       "3                    9.502173e-06  1.617590e-03        8.621982e-06   \n",
       "4                    1.666894e-07  4.688316e-07        1.115694e-05   \n",
       "\n",
       "        basenji        basset        beagle        ...            toy_poodle  \\\n",
       "0  8.400049e-11  3.820907e-09  2.474053e-10        ...          3.921362e-09   \n",
       "1  8.482861e-11  1.756156e-10  1.549563e-10        ...          3.055317e-10   \n",
       "2  4.125299e-13  1.301926e-10  4.158079e-12        ...          1.974644e-11   \n",
       "3  4.441509e-04  2.616692e-05  1.323076e-04        ...          5.601831e-04   \n",
       "4  8.384828e-08  8.849059e-07  2.271098e-07        ...          3.470456e-06   \n",
       "\n",
       "    toy_terrier        vizsla  walker_hound    weimaraner  \\\n",
       "0  7.549177e-10  3.652739e-09  3.209318e-11  1.422727e-09   \n",
       "1  2.951994e-11  5.758611e-11  1.055312e-12  4.920465e-09   \n",
       "2  1.254403e-11  8.358226e-12  9.744035e-11  3.976827e-10   \n",
       "3  7.199783e-06  1.364313e-03  7.456335e-06  1.431824e-04   \n",
       "4  2.071163e-07  5.129667e-07  4.678199e-08  1.463881e-08   \n",
       "\n",
       "   welsh_springer_spaniel  west_highland_white_terrier       whippet  \\\n",
       "0            1.174035e-09                 8.915237e-10  9.993027e-09   \n",
       "1            9.764428e-10                 5.276398e-07  6.441013e-11   \n",
       "2            6.740107e-08                 1.564678e-12  2.482762e-11   \n",
       "3            1.165098e-05                 1.216035e-05  1.066452e-03   \n",
       "4            1.967276e-06                 6.350263e-07  5.178881e-07   \n",
       "\n",
       "   wire-haired_fox_terrier  yorkshire_terrier  \n",
       "0             4.355581e-08       3.770044e-09  \n",
       "1             6.711729e-10       1.506249e-11  \n",
       "2             2.279589e-11       8.462171e-11  \n",
       "3             2.322817e-05       8.490178e-04  \n",
       "4             8.700481e-05       8.347528e-05  \n",
       "\n",
       "[5 rows x 120 columns]"
      ]
     },
     "execution_count": 153,
     "metadata": {},
     "output_type": "execute_result"
    }
   ],
   "source": [
    "submit_df = pd.DataFrame(probs)\n",
    "submit_df.columns = data.classes\n",
    "submit_df.head()"
   ]
  },
  {
   "cell_type": "code",
   "execution_count": 154,
   "metadata": {},
   "outputs": [
    {
     "data": {
      "text/html": [
       "<div>\n",
       "<style scoped>\n",
       "    .dataframe tbody tr th:only-of-type {\n",
       "        vertical-align: middle;\n",
       "    }\n",
       "\n",
       "    .dataframe tbody tr th {\n",
       "        vertical-align: top;\n",
       "    }\n",
       "\n",
       "    .dataframe thead th {\n",
       "        text-align: right;\n",
       "    }\n",
       "</style>\n",
       "<table border=\"1\" class=\"dataframe\">\n",
       "  <thead>\n",
       "    <tr style=\"text-align: right;\">\n",
       "      <th></th>\n",
       "      <th>id</th>\n",
       "      <th>affenpinscher</th>\n",
       "      <th>afghan_hound</th>\n",
       "      <th>african_hunting_dog</th>\n",
       "      <th>airedale</th>\n",
       "      <th>american_staffordshire_terrier</th>\n",
       "      <th>appenzeller</th>\n",
       "      <th>australian_terrier</th>\n",
       "      <th>basenji</th>\n",
       "      <th>basset</th>\n",
       "      <th>...</th>\n",
       "      <th>toy_poodle</th>\n",
       "      <th>toy_terrier</th>\n",
       "      <th>vizsla</th>\n",
       "      <th>walker_hound</th>\n",
       "      <th>weimaraner</th>\n",
       "      <th>welsh_springer_spaniel</th>\n",
       "      <th>west_highland_white_terrier</th>\n",
       "      <th>whippet</th>\n",
       "      <th>wire-haired_fox_terrier</th>\n",
       "      <th>yorkshire_terrier</th>\n",
       "    </tr>\n",
       "  </thead>\n",
       "  <tbody>\n",
       "    <tr>\n",
       "      <th>0</th>\n",
       "      <td>000621fb3cbb32d8935728e48679680e</td>\n",
       "      <td>4.834102e-09</td>\n",
       "      <td>4.355550e-08</td>\n",
       "      <td>3.876562e-08</td>\n",
       "      <td>2.175530e-09</td>\n",
       "      <td>4.236528e-11</td>\n",
       "      <td>9.909140e-10</td>\n",
       "      <td>7.161697e-11</td>\n",
       "      <td>8.400049e-11</td>\n",
       "      <td>3.820907e-09</td>\n",
       "      <td>...</td>\n",
       "      <td>3.921362e-09</td>\n",
       "      <td>7.549177e-10</td>\n",
       "      <td>3.652739e-09</td>\n",
       "      <td>3.209318e-11</td>\n",
       "      <td>1.422727e-09</td>\n",
       "      <td>1.174035e-09</td>\n",
       "      <td>8.915237e-10</td>\n",
       "      <td>9.993027e-09</td>\n",
       "      <td>4.355581e-08</td>\n",
       "      <td>3.770044e-09</td>\n",
       "    </tr>\n",
       "    <tr>\n",
       "      <th>1</th>\n",
       "      <td>00102ee9d8eb90812350685311fe5890</td>\n",
       "      <td>4.221547e-10</td>\n",
       "      <td>4.450466e-11</td>\n",
       "      <td>5.892450e-10</td>\n",
       "      <td>5.466967e-11</td>\n",
       "      <td>8.425902e-12</td>\n",
       "      <td>6.693747e-10</td>\n",
       "      <td>4.157698e-10</td>\n",
       "      <td>8.482861e-11</td>\n",
       "      <td>1.756156e-10</td>\n",
       "      <td>...</td>\n",
       "      <td>3.055317e-10</td>\n",
       "      <td>2.951994e-11</td>\n",
       "      <td>5.758611e-11</td>\n",
       "      <td>1.055312e-12</td>\n",
       "      <td>4.920465e-09</td>\n",
       "      <td>9.764428e-10</td>\n",
       "      <td>5.276398e-07</td>\n",
       "      <td>6.441013e-11</td>\n",
       "      <td>6.711729e-10</td>\n",
       "      <td>1.506249e-11</td>\n",
       "    </tr>\n",
       "    <tr>\n",
       "      <th>2</th>\n",
       "      <td>0012a730dfa437f5f3613fb75efcd4ce</td>\n",
       "      <td>1.305640e-11</td>\n",
       "      <td>3.371915e-08</td>\n",
       "      <td>1.163033e-09</td>\n",
       "      <td>4.626399e-11</td>\n",
       "      <td>1.112048e-12</td>\n",
       "      <td>2.314831e-11</td>\n",
       "      <td>9.149927e-12</td>\n",
       "      <td>4.125299e-13</td>\n",
       "      <td>1.301926e-10</td>\n",
       "      <td>...</td>\n",
       "      <td>1.974644e-11</td>\n",
       "      <td>1.254403e-11</td>\n",
       "      <td>8.358226e-12</td>\n",
       "      <td>9.744035e-11</td>\n",
       "      <td>3.976827e-10</td>\n",
       "      <td>6.740107e-08</td>\n",
       "      <td>1.564678e-12</td>\n",
       "      <td>2.482762e-11</td>\n",
       "      <td>2.279589e-11</td>\n",
       "      <td>8.462171e-11</td>\n",
       "    </tr>\n",
       "    <tr>\n",
       "      <th>3</th>\n",
       "      <td>001510bc8570bbeee98c8d80c8a95ec1</td>\n",
       "      <td>2.595160e-02</td>\n",
       "      <td>3.878163e-05</td>\n",
       "      <td>1.024659e-04</td>\n",
       "      <td>4.594239e-03</td>\n",
       "      <td>9.502173e-06</td>\n",
       "      <td>1.617590e-03</td>\n",
       "      <td>8.621982e-06</td>\n",
       "      <td>4.441509e-04</td>\n",
       "      <td>2.616692e-05</td>\n",
       "      <td>...</td>\n",
       "      <td>5.601831e-04</td>\n",
       "      <td>7.199783e-06</td>\n",
       "      <td>1.364313e-03</td>\n",
       "      <td>7.456335e-06</td>\n",
       "      <td>1.431824e-04</td>\n",
       "      <td>1.165098e-05</td>\n",
       "      <td>1.216035e-05</td>\n",
       "      <td>1.066452e-03</td>\n",
       "      <td>2.322817e-05</td>\n",
       "      <td>8.490178e-04</td>\n",
       "    </tr>\n",
       "    <tr>\n",
       "      <th>4</th>\n",
       "      <td>001a5f3114548acdefa3d4da05474c2e</td>\n",
       "      <td>2.081964e-01</td>\n",
       "      <td>4.649780e-06</td>\n",
       "      <td>3.332705e-07</td>\n",
       "      <td>1.737867e-06</td>\n",
       "      <td>1.666894e-07</td>\n",
       "      <td>4.688316e-07</td>\n",
       "      <td>1.115694e-05</td>\n",
       "      <td>8.384828e-08</td>\n",
       "      <td>8.849059e-07</td>\n",
       "      <td>...</td>\n",
       "      <td>3.470456e-06</td>\n",
       "      <td>2.071163e-07</td>\n",
       "      <td>5.129667e-07</td>\n",
       "      <td>4.678199e-08</td>\n",
       "      <td>1.463881e-08</td>\n",
       "      <td>1.967276e-06</td>\n",
       "      <td>6.350263e-07</td>\n",
       "      <td>5.178881e-07</td>\n",
       "      <td>8.700481e-05</td>\n",
       "      <td>8.347528e-05</td>\n",
       "    </tr>\n",
       "  </tbody>\n",
       "</table>\n",
       "<p>5 rows × 121 columns</p>\n",
       "</div>"
      ],
      "text/plain": [
       "                                 id  affenpinscher  afghan_hound  \\\n",
       "0  000621fb3cbb32d8935728e48679680e   4.834102e-09  4.355550e-08   \n",
       "1  00102ee9d8eb90812350685311fe5890   4.221547e-10  4.450466e-11   \n",
       "2  0012a730dfa437f5f3613fb75efcd4ce   1.305640e-11  3.371915e-08   \n",
       "3  001510bc8570bbeee98c8d80c8a95ec1   2.595160e-02  3.878163e-05   \n",
       "4  001a5f3114548acdefa3d4da05474c2e   2.081964e-01  4.649780e-06   \n",
       "\n",
       "   african_hunting_dog      airedale  american_staffordshire_terrier  \\\n",
       "0         3.876562e-08  2.175530e-09                    4.236528e-11   \n",
       "1         5.892450e-10  5.466967e-11                    8.425902e-12   \n",
       "2         1.163033e-09  4.626399e-11                    1.112048e-12   \n",
       "3         1.024659e-04  4.594239e-03                    9.502173e-06   \n",
       "4         3.332705e-07  1.737867e-06                    1.666894e-07   \n",
       "\n",
       "    appenzeller  australian_terrier       basenji        basset  \\\n",
       "0  9.909140e-10        7.161697e-11  8.400049e-11  3.820907e-09   \n",
       "1  6.693747e-10        4.157698e-10  8.482861e-11  1.756156e-10   \n",
       "2  2.314831e-11        9.149927e-12  4.125299e-13  1.301926e-10   \n",
       "3  1.617590e-03        8.621982e-06  4.441509e-04  2.616692e-05   \n",
       "4  4.688316e-07        1.115694e-05  8.384828e-08  8.849059e-07   \n",
       "\n",
       "         ...            toy_poodle   toy_terrier        vizsla  walker_hound  \\\n",
       "0        ...          3.921362e-09  7.549177e-10  3.652739e-09  3.209318e-11   \n",
       "1        ...          3.055317e-10  2.951994e-11  5.758611e-11  1.055312e-12   \n",
       "2        ...          1.974644e-11  1.254403e-11  8.358226e-12  9.744035e-11   \n",
       "3        ...          5.601831e-04  7.199783e-06  1.364313e-03  7.456335e-06   \n",
       "4        ...          3.470456e-06  2.071163e-07  5.129667e-07  4.678199e-08   \n",
       "\n",
       "     weimaraner  welsh_springer_spaniel  west_highland_white_terrier  \\\n",
       "0  1.422727e-09            1.174035e-09                 8.915237e-10   \n",
       "1  4.920465e-09            9.764428e-10                 5.276398e-07   \n",
       "2  3.976827e-10            6.740107e-08                 1.564678e-12   \n",
       "3  1.431824e-04            1.165098e-05                 1.216035e-05   \n",
       "4  1.463881e-08            1.967276e-06                 6.350263e-07   \n",
       "\n",
       "        whippet  wire-haired_fox_terrier  yorkshire_terrier  \n",
       "0  9.993027e-09             4.355581e-08       3.770044e-09  \n",
       "1  6.441013e-11             6.711729e-10       1.506249e-11  \n",
       "2  2.482762e-11             2.279589e-11       8.462171e-11  \n",
       "3  1.066452e-03             2.322817e-05       8.490178e-04  \n",
       "4  5.178881e-07             8.700481e-05       8.347528e-05  \n",
       "\n",
       "[5 rows x 121 columns]"
      ]
     },
     "execution_count": 154,
     "metadata": {},
     "output_type": "execute_result"
    }
   ],
   "source": [
    "submit_df.insert(0, 'id', [filename[5:-4] for filename in data.test_ds.fnames])\n",
    "submit_df.head()"
   ]
  },
  {
   "cell_type": "code",
   "execution_count": 155,
   "metadata": {},
   "outputs": [],
   "source": [
    "submit_dir = f'submit'\n",
    "os.makedirs(submit_dir, exist_ok=True)\n",
    "submit_df.to_csv(f'{submit_dir}/submit.gz', compression='gzip', index=False)"
   ]
  },
  {
   "cell_type": "code",
   "execution_count": 156,
   "metadata": {},
   "outputs": [
    {
     "data": {
      "text/html": [
       "<a href='submit/submit.gz' target='_blank'>submit/submit.gz</a><br>"
      ],
      "text/plain": [
       "C:\\Users\\I863552\\Documents\\fastai\\courses\\dl1\\kaggle\\submit\\submit.gz"
      ]
     },
     "execution_count": 156,
     "metadata": {},
     "output_type": "execute_result"
    }
   ],
   "source": [
    "FileLink(f'{submit_dir}/submit.gz')"
   ]
  },
  {
   "cell_type": "code",
   "execution_count": null,
   "metadata": {},
   "outputs": [],
   "source": []
  }
 ],
 "metadata": {
  "kernelspec": {
   "display_name": "Python 3",
   "language": "python",
   "name": "python3"
  },
  "language_info": {
   "codemirror_mode": {
    "name": "ipython",
    "version": 3
   },
   "file_extension": ".py",
   "mimetype": "text/x-python",
   "name": "python",
   "nbconvert_exporter": "python",
   "pygments_lexer": "ipython3",
   "version": "3.6.6"
  },
  "toc": {
   "base_numbering": 1,
   "nav_menu": {},
   "number_sections": true,
   "sideBar": true,
   "skip_h1_title": false,
   "title_cell": "Table of Contents",
   "title_sidebar": "Contents",
   "toc_cell": false,
   "toc_position": {
    "height": "calc(100% - 180px)",
    "left": "10px",
    "top": "150px",
    "width": "323px"
   },
   "toc_section_display": true,
   "toc_window_display": false
  }
 },
 "nbformat": 4,
 "nbformat_minor": 2
}
