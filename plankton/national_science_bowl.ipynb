{
 "cells": [
  {
   "cell_type": "markdown",
   "metadata": {},
   "source": [
    "### Setup "
   ]
  },
  {
   "cell_type": "code",
   "execution_count": 1,
   "metadata": {},
   "outputs": [],
   "source": [
    "%reload_ext autoreload\n",
    "%autoreload 2\n",
    "%matplotlib inline"
   ]
  },
  {
   "cell_type": "code",
   "execution_count": 2,
   "metadata": {
    "scrolled": true
   },
   "outputs": [
    {
     "name": "stderr",
     "output_type": "stream",
     "text": [
      "C:\\Users\\I863552\\AppData\\Local\\Continuum\\anaconda3\\envs\\fastai\\lib\\site-packages\\sklearn\\ensemble\\weight_boosting.py:29: DeprecationWarning: numpy.core.umath_tests is an internal NumPy module and should not be imported. It will be removed in a future NumPy release.\n",
      "  from numpy.core.umath_tests import inner1d\n"
     ]
    }
   ],
   "source": [
    "import os\n",
    "import shutil\n",
    "from fastai.imports import *\n",
    "from fastai.transforms import *\n",
    "from fastai.conv_learner import *\n",
    "from fastai.model import *\n",
    "from fastai.dataset import *\n",
    "from fastai.sgdr import *\n",
    "from fastai.plots import *\n",
    "import pandas as pd\n",
    "import numpy as np\n",
    "from sklearn import metrics"
   ]
  },
  {
   "cell_type": "code",
   "execution_count": 3,
   "metadata": {},
   "outputs": [],
   "source": [
    "PATH = '../data/science_bowl'"
   ]
  },
  {
   "cell_type": "markdown",
   "metadata": {},
   "source": [
    "### Data inspection & validation set separation"
   ]
  },
  {
   "cell_type": "code",
   "execution_count": 4,
   "metadata": {},
   "outputs": [],
   "source": [
    "def split_validation_set(ratio=0.2):\n",
    "    if (not os.path.isdir(f'{PATH}/valid')):\n",
    "        os.makedirs(f'{PATH}/valid', exist_ok=True)\n",
    "        categories = os.listdir(f'{PATH}/train')\n",
    "        for category in categories:\n",
    "            os.makedirs(f'{PATH}/valid/{category}', exist_ok=True)\n",
    "            category_filenames = os.listdir(f'{PATH}/train/{category}')\n",
    "            file_counts = len(category_filenames)\n",
    "            valid_counts = 0\n",
    "            index = 0\n",
    "            while (valid_counts / file_counts) < ratio:\n",
    "                src = f'{PATH}/train/{category}/{category_filenames[index]}'\n",
    "                dst = f'{PATH}/valid/{category}/{category_filenames[index]}'\n",
    "                shutil.move(src, dst)\n",
    "                index += 1\n",
    "                valid_counts += 1"
   ]
  },
  {
   "cell_type": "code",
   "execution_count": 5,
   "metadata": {},
   "outputs": [],
   "source": [
    "split_validation_set()"
   ]
  },
  {
   "cell_type": "code",
   "execution_count": 6,
   "metadata": {},
   "outputs": [],
   "source": [
    "categories = os.listdir(f'{PATH}/train')\n",
    "filename_sizes = []\n",
    "for cat in categories:\n",
    "    filenames = os.listdir(f'{PATH}/train/{cat}')\n",
    "    for fn in filenames:\n",
    "        filename_sizes.append(PIL.Image.open(f'{PATH}/train/{cat}/{fn}').size)\n",
    "widths, heights = zip(*filename_sizes)"
   ]
  },
  {
   "cell_type": "code",
   "execution_count": 7,
   "metadata": {},
   "outputs": [
    {
     "data": {
      "text/plain": [
       "(array([16141.,  4502.,  1672.,   848.,   524.,   285.,   140.,    51.,    33.,    25.]),\n",
       " array([ 31. ,  70.3, 109.6, 148.9, 188.2, 227.5, 266.8, 306.1, 345.4, 384.7, 424. ]),\n",
       " <a list of 10 Patch objects>)"
      ]
     },
     "execution_count": 7,
     "metadata": {},
     "output_type": "execute_result"
    },
    {
     "data": {
      "image/png": "[encoded data removed]",
      "text/plain": [
       "<Figure size 432x288 with 1 Axes>"
      ]
     },
     "metadata": {
      "needs_background": "light"
     },
     "output_type": "display_data"
    }
   ],
   "source": [
    "plt.hist(widths)"
   ]
  },
  {
   "cell_type": "code",
   "execution_count": 8,
   "metadata": {},
   "outputs": [
    {
     "data": {
      "text/plain": [
       "(array([15552.,  6025.,  1316.,   560.,   311.,   228.,   101.,    63.,    40.,    25.]),\n",
       " array([ 21. ,  61.7, 102.4, 143.1, 183.8, 224.5, 265.2, 305.9, 346.6, 387.3, 428. ]),\n",
       " <a list of 10 Patch objects>)"
      ]
     },
     "execution_count": 8,
     "metadata": {},
     "output_type": "execute_result"
    },
    {
     "data": {
      "image/png": "[encoded data removed]",
      "text/plain": [
       "<Figure size 432x288 with 1 Axes>"
      ]
     },
     "metadata": {
      "needs_background": "light"
     },
     "output_type": "display_data"
    }
   ],
   "source": [
    "plt.hist(heights)"
   ]
  },
  {
   "cell_type": "markdown",
   "metadata": {},
   "source": [
    "### Training "
   ]
  },
  {
   "cell_type": "code",
   "execution_count": 9,
   "metadata": {},
   "outputs": [],
   "source": [
    "arch = resnext101_64"
   ]
  },
  {
   "cell_type": "code",
   "execution_count": 10,
   "metadata": {},
   "outputs": [],
   "source": [
    "def get_data(img_size=64):\n",
    "    tfms = tfms_from_model(arch, img_size, aug_tfms=transforms_side_on + transforms_top_down, max_zoom=1.2)\n",
    "    return ImageClassifierData.from_paths(f'{PATH}', tfms=tfms, test_name='test')"
   ]
  },
  {
   "cell_type": "code",
   "execution_count": 11,
   "metadata": {},
   "outputs": [
    {
     "name": "stderr",
     "output_type": "stream",
     "text": [
      "C:\\Users\\I863552\\AppData\\Local\\Continuum\\anaconda3\\envs\\fastai\\lib\\site-packages\\fastai\\initializers.py:6: UserWarning: nn.init.kaiming_normal is now deprecated in favor of nn.init.kaiming_normal_.\n",
      "  if hasattr(m, 'weight'): init_fn(m.weight)\n",
      "C:\\Users\\I863552\\AppData\\Local\\Continuum\\anaconda3\\envs\\fastai\\lib\\site-packages\\fastai\\initializers.py:6: UserWarning: nn.init.kaiming_normal is now deprecated in favor of nn.init.kaiming_normal_.\n",
      "  if hasattr(m, 'weight'): init_fn(m.weight)\n"
     ]
    }
   ],
   "source": [
    "data = get_data(32)\n",
    "learn = ConvLearner.pretrained(arch, data)"
   ]
  },
  {
   "cell_type": "code",
   "execution_count": 45,
   "metadata": {},
   "outputs": [
    {
     "data": {
      "application/vnd.jupyter.widget-view+json": {
       "model_id": "ce3d1190afd14f5abf67d8075d9c2ee0",
       "version_major": 2,
       "version_minor": 0
      },
      "text/plain": [
       "HBox(children=(IntProgress(value=0, description='Epoch', max=1), HTML(value='')))"
      ]
     },
     "metadata": {},
     "output_type": "display_data"
    },
    {
     "name": "stdout",
     "output_type": "stream",
     "text": [
      " 88%|████████████████████████████████████████████████████████████▉        | 335/379 [01:15<00:10,  4.21it/s, loss=13.7]"
     ]
    }
   ],
   "source": [
    "learn.lr_find()"
   ]
  },
  {
   "cell_type": "code",
   "execution_count": 46,
   "metadata": {},
   "outputs": [
    {
     "data": {
      "image/png": "[encoded data removed]",
      "text/plain": [
       "<Figure size 432x288 with 1 Axes>"
      ]
     },
     "metadata": {
      "needs_background": "light"
     },
     "output_type": "display_data"
    }
   ],
   "source": [
    "learn.sched.plot()"
   ]
  },
  {
   "cell_type": "code",
   "execution_count": 12,
   "metadata": {},
   "outputs": [],
   "source": [
    "learning_rate = 2e-2"
   ]
  },
  {
   "cell_type": "code",
   "execution_count": 48,
   "metadata": {},
   "outputs": [
    {
     "data": {
      "application/vnd.jupyter.widget-view+json": {
       "model_id": "40145c20b9a84388b42be2585d6cdc69",
       "version_major": 2,
       "version_minor": 0
      },
      "text/plain": [
       "HBox(children=(IntProgress(value=0, description='Epoch', max=2), HTML(value='')))"
      ]
     },
     "metadata": {},
     "output_type": "display_data"
    },
    {
     "name": "stdout",
     "output_type": "stream",
     "text": [
      "epoch      trn_loss   val_loss   accuracy                                                                              \n",
      "    0      2.072113   1.761281   0.524121  \n",
      "    1      1.909753   1.602641   0.554865                                                                              \n"
     ]
    },
    {
     "data": {
      "text/plain": [
       "[1.6026412304560864, 0.5548650858553701]"
      ]
     },
     "execution_count": 48,
     "metadata": {},
     "output_type": "execute_result"
    }
   ],
   "source": [
    "learn.fit(learning_rate, 2, cycle_len=1)"
   ]
  },
  {
   "cell_type": "code",
   "execution_count": 49,
   "metadata": {},
   "outputs": [],
   "source": [
    "learn.save('science_bowl_last_32')"
   ]
  },
  {
   "cell_type": "code",
   "execution_count": 50,
   "metadata": {},
   "outputs": [],
   "source": [
    "learn.load('science_bowl_last_32')"
   ]
  },
  {
   "cell_type": "code",
   "execution_count": 51,
   "metadata": {},
   "outputs": [
    {
     "name": "stdout",
     "output_type": "stream",
     "text": [
      "                                                                                                                       \r"
     ]
    },
    {
     "data": {
      "text/plain": [
       "1.5283163262586505"
      ]
     },
     "execution_count": 51,
     "metadata": {},
     "output_type": "execute_result"
    }
   ],
   "source": [
    "log_preds, y = learn.TTA()\n",
    "preds = np.mean(np.exp(log_preds), 0)\n",
    "metrics.log_loss(y, preds)"
   ]
  },
  {
   "cell_type": "code",
   "execution_count": 13,
   "metadata": {},
   "outputs": [],
   "source": [
    "learning_rates = [learning_rate/100, learning_rate/3, learning_rate]"
   ]
  },
  {
   "cell_type": "code",
   "execution_count": 53,
   "metadata": {},
   "outputs": [],
   "source": [
    "learn.unfreeze()"
   ]
  },
  {
   "cell_type": "code",
   "execution_count": 54,
   "metadata": {},
   "outputs": [
    {
     "data": {
      "application/vnd.jupyter.widget-view+json": {
       "model_id": "f98f606316bc4a91a2cb3d4a6db248fd",
       "version_major": 2,
       "version_minor": 0
      },
      "text/plain": [
       "HBox(children=(IntProgress(value=0, description='Epoch', max=7), HTML(value='')))"
      ]
     },
     "metadata": {},
     "output_type": "display_data"
    },
    {
     "name": "stdout",
     "output_type": "stream",
     "text": [
      "epoch      trn_loss   val_loss   accuracy                                                                              \n",
      "    0      1.901038   1.561861   0.552903  \n",
      "    1      1.790694   1.500347   0.568438                                                                              \n",
      "    2      1.577415   1.331896   0.61341                                                                               \n",
      "    3      1.604477   1.316428   0.616353                                                                              \n",
      "    4      1.477142   1.227604   0.632216                                                                              \n",
      "    5      1.335254   1.163646   0.652494                                                                              \n",
      "    6      1.286935   1.133355   0.655274                                                                              \n"
     ]
    },
    {
     "data": {
      "text/plain": [
       "[1.1333551155770303, 0.655273916599442]"
      ]
     },
     "execution_count": 54,
     "metadata": {},
     "output_type": "execute_result"
    }
   ],
   "source": [
    "learn.fit(learning_rates, 3, cycle_len=1, cycle_mult=2)"
   ]
  },
  {
   "cell_type": "code",
   "execution_count": 55,
   "metadata": {},
   "outputs": [],
   "source": [
    "learn.save('science_bowl_full_32')"
   ]
  },
  {
   "cell_type": "code",
   "execution_count": 21,
   "metadata": {},
   "outputs": [],
   "source": [
    "learn.load('science_bowl_full_32')"
   ]
  },
  {
   "cell_type": "code",
   "execution_count": 57,
   "metadata": {},
   "outputs": [
    {
     "name": "stdout",
     "output_type": "stream",
     "text": [
      "                                                                                                                       \r"
     ]
    },
    {
     "data": {
      "text/plain": [
       "1.0741634389493318"
      ]
     },
     "execution_count": 57,
     "metadata": {},
     "output_type": "execute_result"
    }
   ],
   "source": [
    "log_preds, y = learn.TTA()\n",
    "preds = np.mean(np.exp(log_preds), 0)\n",
    "metrics.log_loss(y, preds)"
   ]
  },
  {
   "cell_type": "code",
   "execution_count": 22,
   "metadata": {},
   "outputs": [],
   "source": [
    "learn.set_data(get_data(60))"
   ]
  },
  {
   "cell_type": "code",
   "execution_count": 23,
   "metadata": {},
   "outputs": [],
   "source": [
    "learn.freeze()"
   ]
  },
  {
   "cell_type": "code",
   "execution_count": 24,
   "metadata": {},
   "outputs": [
    {
     "data": {
      "application/vnd.jupyter.widget-view+json": {
       "model_id": "7b66cf0b650e4555af055fce18c4c146",
       "version_major": 2,
       "version_minor": 0
      },
      "text/plain": [
       "HBox(children=(IntProgress(value=0, description='Epoch', max=3), HTML(value='')))"
      ]
     },
     "metadata": {},
     "output_type": "display_data"
    },
    {
     "name": "stdout",
     "output_type": "stream",
     "text": [
      "epoch      trn_loss   val_loss   accuracy                                                                              \n",
      "    0      1.633994   1.442609   0.58937   \n",
      "    1      1.49771    1.312436   0.611938                                                                              \n",
      "    2      1.472432   1.283258   0.625184                                                                              \n"
     ]
    },
    {
     "data": {
      "text/plain": [
       "[1.2832583083155111, 0.62518397383666]"
      ]
     },
     "execution_count": 24,
     "metadata": {},
     "output_type": "execute_result"
    }
   ],
   "source": [
    "learn.fit(learning_rate, 3, cycle_len=1)"
   ]
  },
  {
   "cell_type": "code",
   "execution_count": 25,
   "metadata": {},
   "outputs": [],
   "source": [
    "learn.save('science_bowl_last_60')"
   ]
  },
  {
   "cell_type": "code",
   "execution_count": 26,
   "metadata": {},
   "outputs": [],
   "source": [
    "learn.load('science_bowl_last_60')"
   ]
  },
  {
   "cell_type": "code",
   "execution_count": 27,
   "metadata": {},
   "outputs": [
    {
     "name": "stdout",
     "output_type": "stream",
     "text": [
      "                                                                                                                       \r"
     ]
    },
    {
     "data": {
      "text/plain": [
       "1.2182858127220046"
      ]
     },
     "execution_count": 27,
     "metadata": {},
     "output_type": "execute_result"
    }
   ],
   "source": [
    "log_preds, y = learn.TTA()\n",
    "preds = np.mean(np.exp(log_preds), 0)\n",
    "metrics.log_loss(y, preds)"
   ]
  },
  {
   "cell_type": "code",
   "execution_count": 28,
   "metadata": {},
   "outputs": [],
   "source": [
    "learn.unfreeze()"
   ]
  },
  {
   "cell_type": "code",
   "execution_count": 29,
   "metadata": {},
   "outputs": [
    {
     "data": {
      "application/vnd.jupyter.widget-view+json": {
       "model_id": "",
       "version_major": 2,
       "version_minor": 0
      },
      "text/plain": [
       "HBox(children=(IntProgress(value=0, description='Epoch', max=7), HTML(value='')))"
      ]
     },
     "metadata": {},
     "output_type": "display_data"
    },
    {
     "name": "stdout",
     "output_type": "stream",
     "text": [
      "epoch      trn_loss   val_loss   accuracy                                                                              \n",
      "    0      1.288873   1.06074    0.680294  \n",
      "    1      1.234536   1.002733   0.690924                                                                              \n",
      "    2      1.099032   0.952205   0.709076                                                                              \n",
      "    3      1.175205   1.000097   0.691905                                                                              \n",
      "    4      1.087967   1.071429   0.683729                                                                              \n",
      "    5      1.011452   0.896444   0.725756                                                                              \n",
      "    6      0.979244   0.875173   0.732298                                                                              \n"
     ]
    },
    {
     "data": {
      "text/plain": [
       "[0.8751728602929478, 0.7322976288182367]"
      ]
     },
     "execution_count": 29,
     "metadata": {},
     "output_type": "execute_result"
    }
   ],
   "source": [
    "learn.fit(learning_rates, 3, cycle_len=1, cycle_mult=2)"
   ]
  },
  {
   "cell_type": "code",
   "execution_count": 30,
   "metadata": {},
   "outputs": [],
   "source": [
    "learn.save('science_bowl_full_60')"
   ]
  },
  {
   "cell_type": "code",
   "execution_count": 41,
   "metadata": {},
   "outputs": [],
   "source": [
    "learn.load('science_bowl_full_60')"
   ]
  },
  {
   "cell_type": "code",
   "execution_count": 32,
   "metadata": {},
   "outputs": [
    {
     "name": "stdout",
     "output_type": "stream",
     "text": [
      "                                                                                                                       \r"
     ]
    },
    {
     "data": {
      "text/plain": [
       "0.8285863499759754"
      ]
     },
     "execution_count": 32,
     "metadata": {},
     "output_type": "execute_result"
    }
   ],
   "source": [
    "log_preds, y = learn.TTA()\n",
    "preds = np.mean(np.exp(log_preds), 0)\n",
    "metrics.log_loss(y, preds)"
   ]
  },
  {
   "cell_type": "code",
   "execution_count": 42,
   "metadata": {},
   "outputs": [],
   "source": [
    "learn.unfreeze()"
   ]
  },
  {
   "cell_type": "code",
   "execution_count": 43,
   "metadata": {},
   "outputs": [
    {
     "data": {
      "application/vnd.jupyter.widget-view+json": {
       "model_id": "82742fb1a853461aa5f3c66365f842f5",
       "version_major": 2,
       "version_minor": 0
      },
      "text/plain": [
       "HBox(children=(IntProgress(value=0, description='Epoch', max=7), HTML(value='')))"
      ]
     },
     "metadata": {},
     "output_type": "display_data"
    },
    {
     "name": "stdout",
     "output_type": "stream",
     "text": [
      "epoch      trn_loss   val_loss   accuracy                                                                              \n",
      "    0      0.9912     0.874115   0.732625  \n",
      "    1      1.031798   0.916435   0.724775                                                                              \n",
      "    2      0.903586   0.860153   0.737531                                                                              \n",
      "    3      0.994961   0.943333   0.709076                                                                              \n",
      "    4      0.921105   0.844742   0.743254                                                                              \n",
      "    5      0.860614   0.817903   0.744072                                                                              \n",
      "    6      0.805841   0.801466   0.752576                                                                              \n"
     ]
    },
    {
     "data": {
      "text/plain": [
       "[0.8014656588179306, 0.7525756337242057]"
      ]
     },
     "execution_count": 43,
     "metadata": {},
     "output_type": "execute_result"
    }
   ],
   "source": [
    "learn.fit(learning_rates, 3, cycle_len=1, cycle_mult=2)"
   ]
  },
  {
   "cell_type": "code",
   "execution_count": 44,
   "metadata": {},
   "outputs": [
    {
     "name": "stdout",
     "output_type": "stream",
     "text": [
      "                                                                                                                       \r"
     ]
    },
    {
     "data": {
      "text/plain": [
       "0.75301044622538"
      ]
     },
     "execution_count": 44,
     "metadata": {},
     "output_type": "execute_result"
    }
   ],
   "source": [
    "log_preds, y = learn.TTA()\n",
    "preds = np.mean(np.exp(log_preds), 0)\n",
    "metrics.log_loss(y, preds)"
   ]
  },
  {
   "cell_type": "code",
   "execution_count": 45,
   "metadata": {},
   "outputs": [],
   "source": [
    "learn.save('science_bowl_full_60')"
   ]
  },
  {
   "cell_type": "code",
   "execution_count": 46,
   "metadata": {},
   "outputs": [],
   "source": [
    "learn.load('science_bowl_full_60')"
   ]
  },
  {
   "cell_type": "code",
   "execution_count": 47,
   "metadata": {},
   "outputs": [],
   "source": [
    "learn.freeze()"
   ]
  },
  {
   "cell_type": "code",
   "execution_count": 48,
   "metadata": {},
   "outputs": [
    {
     "data": {
      "application/vnd.jupyter.widget-view+json": {
       "model_id": "7f333231d82b43bd9b88bea5fdba6e62",
       "version_major": 2,
       "version_minor": 0
      },
      "text/plain": [
       "HBox(children=(IntProgress(value=0, description='Epoch', max=4), HTML(value='')))"
      ]
     },
     "metadata": {},
     "output_type": "display_data"
    },
    {
     "name": "stdout",
     "output_type": "stream",
     "text": [
      "epoch      trn_loss   val_loss   accuracy                                                                              \n",
      "    0      0.774421   0.803524   0.751922  \n",
      "    1      0.778534   0.79597    0.753884                                                                              \n",
      "    2      0.773774   0.794444   0.752739                                                                              \n",
      "    3      0.75676    0.794245   0.755029                                                                              \n"
     ]
    },
    {
     "data": {
      "text/plain": [
       "[0.7942453492789218, 0.7550286181788901]"
      ]
     },
     "execution_count": 48,
     "metadata": {},
     "output_type": "execute_result"
    }
   ],
   "source": [
    "learn.fit(learning_rate, 2, cycle_len=2)"
   ]
  },
  {
   "cell_type": "code",
   "execution_count": 49,
   "metadata": {},
   "outputs": [],
   "source": [
    "learn.save('science_bowl_last_60_v2')"
   ]
  },
  {
   "cell_type": "code",
   "execution_count": 50,
   "metadata": {},
   "outputs": [],
   "source": [
    "learn.load('science_bowl_last_60_v2')"
   ]
  },
  {
   "cell_type": "code",
   "execution_count": 51,
   "metadata": {},
   "outputs": [
    {
     "name": "stdout",
     "output_type": "stream",
     "text": [
      "                                                                                                                       \r"
     ]
    },
    {
     "data": {
      "text/plain": [
       "0.7578011925411826"
      ]
     },
     "execution_count": 51,
     "metadata": {},
     "output_type": "execute_result"
    }
   ],
   "source": [
    "log_preds, y = learn.TTA()\n",
    "preds = np.mean(np.exp(log_preds), 0)\n",
    "metrics.log_loss(y, preds)"
   ]
  },
  {
   "cell_type": "markdown",
   "metadata": {},
   "source": [
    "### Submit"
   ]
  },
  {
   "cell_type": "code",
   "execution_count": 52,
   "metadata": {},
   "outputs": [
    {
     "name": "stdout",
     "output_type": "stream",
     "text": [
      "                                                                                                                       \r"
     ]
    }
   ],
   "source": [
    "log_preds, y = learn.TTA(is_test=True)\n",
    "preds = np.mean(np.exp(log_preds), 0)"
   ]
  },
  {
   "cell_type": "code",
   "execution_count": 53,
   "metadata": {},
   "outputs": [
    {
     "data": {
      "text/html": [
       "<div>\n",
       "<style scoped>\n",
       "    .dataframe tbody tr th:only-of-type {\n",
       "        vertical-align: middle;\n",
       "    }\n",
       "\n",
       "    .dataframe tbody tr th {\n",
       "        vertical-align: top;\n",
       "    }\n",
       "\n",
       "    .dataframe thead th {\n",
       "        text-align: right;\n",
       "    }\n",
       "</style>\n",
       "<table border=\"1\" class=\"dataframe\">\n",
       "  <thead>\n",
       "    <tr style=\"text-align: right;\">\n",
       "      <th></th>\n",
       "      <th>0</th>\n",
       "      <th>1</th>\n",
       "      <th>2</th>\n",
       "      <th>3</th>\n",
       "      <th>4</th>\n",
       "      <th>5</th>\n",
       "      <th>6</th>\n",
       "      <th>7</th>\n",
       "      <th>8</th>\n",
       "      <th>9</th>\n",
       "      <th>...</th>\n",
       "      <th>111</th>\n",
       "      <th>112</th>\n",
       "      <th>113</th>\n",
       "      <th>114</th>\n",
       "      <th>115</th>\n",
       "      <th>116</th>\n",
       "      <th>117</th>\n",
       "      <th>118</th>\n",
       "      <th>119</th>\n",
       "      <th>120</th>\n",
       "    </tr>\n",
       "  </thead>\n",
       "  <tbody>\n",
       "    <tr>\n",
       "      <th>0</th>\n",
       "      <td>2.606581e-03</td>\n",
       "      <td>4.416857e-05</td>\n",
       "      <td>0.000160</td>\n",
       "      <td>2.718759e-04</td>\n",
       "      <td>0.000174</td>\n",
       "      <td>1.989356e-03</td>\n",
       "      <td>8.410830e-04</td>\n",
       "      <td>8.787910e-04</td>\n",
       "      <td>2.998526e-02</td>\n",
       "      <td>8.314685e-04</td>\n",
       "      <td>...</td>\n",
       "      <td>9.622915e-03</td>\n",
       "      <td>7.348660e-05</td>\n",
       "      <td>7.143286e-04</td>\n",
       "      <td>4.966095e-04</td>\n",
       "      <td>1.660838e-04</td>\n",
       "      <td>5.958547e-05</td>\n",
       "      <td>1.175805e-04</td>\n",
       "      <td>4.950612e-02</td>\n",
       "      <td>3.257264e-02</td>\n",
       "      <td>0.004217</td>\n",
       "    </tr>\n",
       "    <tr>\n",
       "      <th>1</th>\n",
       "      <td>9.249127e-05</td>\n",
       "      <td>4.802224e-06</td>\n",
       "      <td>0.000021</td>\n",
       "      <td>1.405945e-05</td>\n",
       "      <td>0.000008</td>\n",
       "      <td>1.786661e-05</td>\n",
       "      <td>8.143355e-05</td>\n",
       "      <td>1.099765e-04</td>\n",
       "      <td>8.902589e-06</td>\n",
       "      <td>7.098395e-06</td>\n",
       "      <td>...</td>\n",
       "      <td>1.949330e-04</td>\n",
       "      <td>1.937162e-06</td>\n",
       "      <td>2.812011e-05</td>\n",
       "      <td>7.571453e-06</td>\n",
       "      <td>7.478124e-06</td>\n",
       "      <td>1.498823e-05</td>\n",
       "      <td>4.066806e-06</td>\n",
       "      <td>1.454615e-03</td>\n",
       "      <td>1.903448e-04</td>\n",
       "      <td>0.000240</td>\n",
       "    </tr>\n",
       "    <tr>\n",
       "      <th>2</th>\n",
       "      <td>8.516394e-07</td>\n",
       "      <td>7.596744e-07</td>\n",
       "      <td>0.000010</td>\n",
       "      <td>5.263508e-08</td>\n",
       "      <td>0.000001</td>\n",
       "      <td>3.484414e-08</td>\n",
       "      <td>5.479150e-07</td>\n",
       "      <td>3.676571e-08</td>\n",
       "      <td>1.902037e-07</td>\n",
       "      <td>4.249661e-07</td>\n",
       "      <td>...</td>\n",
       "      <td>2.097116e-07</td>\n",
       "      <td>1.374097e-07</td>\n",
       "      <td>3.049807e-07</td>\n",
       "      <td>3.063449e-08</td>\n",
       "      <td>6.720381e-08</td>\n",
       "      <td>1.054258e-07</td>\n",
       "      <td>7.306875e-08</td>\n",
       "      <td>1.980857e-07</td>\n",
       "      <td>1.618938e-07</td>\n",
       "      <td>0.000008</td>\n",
       "    </tr>\n",
       "    <tr>\n",
       "      <th>3</th>\n",
       "      <td>6.112621e-05</td>\n",
       "      <td>3.458264e-05</td>\n",
       "      <td>0.000012</td>\n",
       "      <td>8.993485e-05</td>\n",
       "      <td>0.000079</td>\n",
       "      <td>6.163259e-05</td>\n",
       "      <td>1.632786e-04</td>\n",
       "      <td>3.855018e-05</td>\n",
       "      <td>2.649199e-05</td>\n",
       "      <td>2.520707e-05</td>\n",
       "      <td>...</td>\n",
       "      <td>2.114883e-05</td>\n",
       "      <td>1.329095e-05</td>\n",
       "      <td>4.488393e-05</td>\n",
       "      <td>8.968076e-06</td>\n",
       "      <td>8.640799e-06</td>\n",
       "      <td>1.722641e-05</td>\n",
       "      <td>2.776372e-06</td>\n",
       "      <td>4.558141e-03</td>\n",
       "      <td>4.849955e-05</td>\n",
       "      <td>0.000443</td>\n",
       "    </tr>\n",
       "    <tr>\n",
       "      <th>4</th>\n",
       "      <td>1.700466e-05</td>\n",
       "      <td>3.188952e-05</td>\n",
       "      <td>0.000005</td>\n",
       "      <td>4.876396e-05</td>\n",
       "      <td>0.000003</td>\n",
       "      <td>4.077199e-06</td>\n",
       "      <td>6.335859e-06</td>\n",
       "      <td>1.640764e-06</td>\n",
       "      <td>6.603243e-06</td>\n",
       "      <td>6.439006e-06</td>\n",
       "      <td>...</td>\n",
       "      <td>4.597895e-04</td>\n",
       "      <td>1.302867e-05</td>\n",
       "      <td>1.143982e-05</td>\n",
       "      <td>2.884000e-05</td>\n",
       "      <td>2.079332e-05</td>\n",
       "      <td>2.034839e-06</td>\n",
       "      <td>1.646845e-05</td>\n",
       "      <td>8.054617e-04</td>\n",
       "      <td>1.505875e-04</td>\n",
       "      <td>0.000063</td>\n",
       "    </tr>\n",
       "  </tbody>\n",
       "</table>\n",
       "<p>5 rows × 121 columns</p>\n",
       "</div>"
      ],
      "text/plain": [
       "            0             1         2             3         4             5    \\\n",
       "0  2.606581e-03  4.416857e-05  0.000160  2.718759e-04  0.000174  1.989356e-03   \n",
       "1  9.249127e-05  4.802224e-06  0.000021  1.405945e-05  0.000008  1.786661e-05   \n",
       "2  8.516394e-07  7.596744e-07  0.000010  5.263508e-08  0.000001  3.484414e-08   \n",
       "3  6.112621e-05  3.458264e-05  0.000012  8.993485e-05  0.000079  6.163259e-05   \n",
       "4  1.700466e-05  3.188952e-05  0.000005  4.876396e-05  0.000003  4.077199e-06   \n",
       "\n",
       "            6             7             8             9      ...     \\\n",
       "0  8.410830e-04  8.787910e-04  2.998526e-02  8.314685e-04    ...      \n",
       "1  8.143355e-05  1.099765e-04  8.902589e-06  7.098395e-06    ...      \n",
       "2  5.479150e-07  3.676571e-08  1.902037e-07  4.249661e-07    ...      \n",
       "3  1.632786e-04  3.855018e-05  2.649199e-05  2.520707e-05    ...      \n",
       "4  6.335859e-06  1.640764e-06  6.603243e-06  6.439006e-06    ...      \n",
       "\n",
       "            111           112           113           114           115  \\\n",
       "0  9.622915e-03  7.348660e-05  7.143286e-04  4.966095e-04  1.660838e-04   \n",
       "1  1.949330e-04  1.937162e-06  2.812011e-05  7.571453e-06  7.478124e-06   \n",
       "2  2.097116e-07  1.374097e-07  3.049807e-07  3.063449e-08  6.720381e-08   \n",
       "3  2.114883e-05  1.329095e-05  4.488393e-05  8.968076e-06  8.640799e-06   \n",
       "4  4.597895e-04  1.302867e-05  1.143982e-05  2.884000e-05  2.079332e-05   \n",
       "\n",
       "            116           117           118           119       120  \n",
       "0  5.958547e-05  1.175805e-04  4.950612e-02  3.257264e-02  0.004217  \n",
       "1  1.498823e-05  4.066806e-06  1.454615e-03  1.903448e-04  0.000240  \n",
       "2  1.054258e-07  7.306875e-08  1.980857e-07  1.618938e-07  0.000008  \n",
       "3  1.722641e-05  2.776372e-06  4.558141e-03  4.849955e-05  0.000443  \n",
       "4  2.034839e-06  1.646845e-05  8.054617e-04  1.505875e-04  0.000063  \n",
       "\n",
       "[5 rows x 121 columns]"
      ]
     },
     "execution_count": 53,
     "metadata": {},
     "output_type": "execute_result"
    }
   ],
   "source": [
    "submit_df = pd.DataFrame(preds)\n",
    "submit_df.head()"
   ]
  },
  {
   "cell_type": "code",
   "execution_count": 54,
   "metadata": {},
   "outputs": [
    {
     "data": {
      "text/html": [
       "<div>\n",
       "<style scoped>\n",
       "    .dataframe tbody tr th:only-of-type {\n",
       "        vertical-align: middle;\n",
       "    }\n",
       "\n",
       "    .dataframe tbody tr th {\n",
       "        vertical-align: top;\n",
       "    }\n",
       "\n",
       "    .dataframe thead th {\n",
       "        text-align: right;\n",
       "    }\n",
       "</style>\n",
       "<table border=\"1\" class=\"dataframe\">\n",
       "  <thead>\n",
       "    <tr style=\"text-align: right;\">\n",
       "      <th></th>\n",
       "      <th>image</th>\n",
       "      <th>acantharia_protist</th>\n",
       "      <th>acantharia_protist_big_center</th>\n",
       "      <th>acantharia_protist_halo</th>\n",
       "      <th>amphipods</th>\n",
       "      <th>appendicularian_fritillaridae</th>\n",
       "      <th>appendicularian_s_shape</th>\n",
       "      <th>appendicularian_slight_curve</th>\n",
       "      <th>appendicularian_straight</th>\n",
       "      <th>artifacts</th>\n",
       "      <th>...</th>\n",
       "      <th>trichodesmium_tuft</th>\n",
       "      <th>trochophore_larvae</th>\n",
       "      <th>tunicate_doliolid</th>\n",
       "      <th>tunicate_doliolid_nurse</th>\n",
       "      <th>tunicate_partial</th>\n",
       "      <th>tunicate_salp</th>\n",
       "      <th>tunicate_salp_chains</th>\n",
       "      <th>unknown_blobs_and_smudges</th>\n",
       "      <th>unknown_sticks</th>\n",
       "      <th>unknown_unclassified</th>\n",
       "    </tr>\n",
       "  </thead>\n",
       "  <tbody>\n",
       "    <tr>\n",
       "      <th>0</th>\n",
       "      <td>1.jpg</td>\n",
       "      <td>2.606581e-03</td>\n",
       "      <td>4.416857e-05</td>\n",
       "      <td>0.000160</td>\n",
       "      <td>2.718759e-04</td>\n",
       "      <td>0.000174</td>\n",
       "      <td>1.989356e-03</td>\n",
       "      <td>8.410830e-04</td>\n",
       "      <td>8.787910e-04</td>\n",
       "      <td>2.998526e-02</td>\n",
       "      <td>...</td>\n",
       "      <td>9.622915e-03</td>\n",
       "      <td>7.348660e-05</td>\n",
       "      <td>7.143286e-04</td>\n",
       "      <td>4.966095e-04</td>\n",
       "      <td>1.660838e-04</td>\n",
       "      <td>5.958547e-05</td>\n",
       "      <td>1.175805e-04</td>\n",
       "      <td>4.950612e-02</td>\n",
       "      <td>3.257264e-02</td>\n",
       "      <td>0.004217</td>\n",
       "    </tr>\n",
       "    <tr>\n",
       "      <th>1</th>\n",
       "      <td>10.jpg</td>\n",
       "      <td>9.249127e-05</td>\n",
       "      <td>4.802224e-06</td>\n",
       "      <td>0.000021</td>\n",
       "      <td>1.405945e-05</td>\n",
       "      <td>0.000008</td>\n",
       "      <td>1.786661e-05</td>\n",
       "      <td>8.143355e-05</td>\n",
       "      <td>1.099765e-04</td>\n",
       "      <td>8.902589e-06</td>\n",
       "      <td>...</td>\n",
       "      <td>1.949330e-04</td>\n",
       "      <td>1.937162e-06</td>\n",
       "      <td>2.812011e-05</td>\n",
       "      <td>7.571453e-06</td>\n",
       "      <td>7.478124e-06</td>\n",
       "      <td>1.498823e-05</td>\n",
       "      <td>4.066806e-06</td>\n",
       "      <td>1.454615e-03</td>\n",
       "      <td>1.903448e-04</td>\n",
       "      <td>0.000240</td>\n",
       "    </tr>\n",
       "    <tr>\n",
       "      <th>2</th>\n",
       "      <td>100.jpg</td>\n",
       "      <td>8.516394e-07</td>\n",
       "      <td>7.596744e-07</td>\n",
       "      <td>0.000010</td>\n",
       "      <td>5.263508e-08</td>\n",
       "      <td>0.000001</td>\n",
       "      <td>3.484414e-08</td>\n",
       "      <td>5.479150e-07</td>\n",
       "      <td>3.676571e-08</td>\n",
       "      <td>1.902037e-07</td>\n",
       "      <td>...</td>\n",
       "      <td>2.097116e-07</td>\n",
       "      <td>1.374097e-07</td>\n",
       "      <td>3.049807e-07</td>\n",
       "      <td>3.063449e-08</td>\n",
       "      <td>6.720381e-08</td>\n",
       "      <td>1.054258e-07</td>\n",
       "      <td>7.306875e-08</td>\n",
       "      <td>1.980857e-07</td>\n",
       "      <td>1.618938e-07</td>\n",
       "      <td>0.000008</td>\n",
       "    </tr>\n",
       "    <tr>\n",
       "      <th>3</th>\n",
       "      <td>1000.jpg</td>\n",
       "      <td>6.112621e-05</td>\n",
       "      <td>3.458264e-05</td>\n",
       "      <td>0.000012</td>\n",
       "      <td>8.993485e-05</td>\n",
       "      <td>0.000079</td>\n",
       "      <td>6.163259e-05</td>\n",
       "      <td>1.632786e-04</td>\n",
       "      <td>3.855018e-05</td>\n",
       "      <td>2.649199e-05</td>\n",
       "      <td>...</td>\n",
       "      <td>2.114883e-05</td>\n",
       "      <td>1.329095e-05</td>\n",
       "      <td>4.488393e-05</td>\n",
       "      <td>8.968076e-06</td>\n",
       "      <td>8.640799e-06</td>\n",
       "      <td>1.722641e-05</td>\n",
       "      <td>2.776372e-06</td>\n",
       "      <td>4.558141e-03</td>\n",
       "      <td>4.849955e-05</td>\n",
       "      <td>0.000443</td>\n",
       "    </tr>\n",
       "    <tr>\n",
       "      <th>4</th>\n",
       "      <td>10000.jpg</td>\n",
       "      <td>1.700466e-05</td>\n",
       "      <td>3.188952e-05</td>\n",
       "      <td>0.000005</td>\n",
       "      <td>4.876396e-05</td>\n",
       "      <td>0.000003</td>\n",
       "      <td>4.077199e-06</td>\n",
       "      <td>6.335859e-06</td>\n",
       "      <td>1.640764e-06</td>\n",
       "      <td>6.603243e-06</td>\n",
       "      <td>...</td>\n",
       "      <td>4.597895e-04</td>\n",
       "      <td>1.302867e-05</td>\n",
       "      <td>1.143982e-05</td>\n",
       "      <td>2.884000e-05</td>\n",
       "      <td>2.079332e-05</td>\n",
       "      <td>2.034839e-06</td>\n",
       "      <td>1.646845e-05</td>\n",
       "      <td>8.054617e-04</td>\n",
       "      <td>1.505875e-04</td>\n",
       "      <td>0.000063</td>\n",
       "    </tr>\n",
       "  </tbody>\n",
       "</table>\n",
       "<p>5 rows × 122 columns</p>\n",
       "</div>"
      ],
      "text/plain": [
       "       image  acantharia_protist  acantharia_protist_big_center  \\\n",
       "0      1.jpg        2.606581e-03                   4.416857e-05   \n",
       "1     10.jpg        9.249127e-05                   4.802224e-06   \n",
       "2    100.jpg        8.516394e-07                   7.596744e-07   \n",
       "3   1000.jpg        6.112621e-05                   3.458264e-05   \n",
       "4  10000.jpg        1.700466e-05                   3.188952e-05   \n",
       "\n",
       "   acantharia_protist_halo     amphipods  appendicularian_fritillaridae  \\\n",
       "0                 0.000160  2.718759e-04                       0.000174   \n",
       "1                 0.000021  1.405945e-05                       0.000008   \n",
       "2                 0.000010  5.263508e-08                       0.000001   \n",
       "3                 0.000012  8.993485e-05                       0.000079   \n",
       "4                 0.000005  4.876396e-05                       0.000003   \n",
       "\n",
       "   appendicularian_s_shape  appendicularian_slight_curve  \\\n",
       "0             1.989356e-03                  8.410830e-04   \n",
       "1             1.786661e-05                  8.143355e-05   \n",
       "2             3.484414e-08                  5.479150e-07   \n",
       "3             6.163259e-05                  1.632786e-04   \n",
       "4             4.077199e-06                  6.335859e-06   \n",
       "\n",
       "   appendicularian_straight     artifacts          ...           \\\n",
       "0              8.787910e-04  2.998526e-02          ...            \n",
       "1              1.099765e-04  8.902589e-06          ...            \n",
       "2              3.676571e-08  1.902037e-07          ...            \n",
       "3              3.855018e-05  2.649199e-05          ...            \n",
       "4              1.640764e-06  6.603243e-06          ...            \n",
       "\n",
       "   trichodesmium_tuft  trochophore_larvae  tunicate_doliolid  \\\n",
       "0        9.622915e-03        7.348660e-05       7.143286e-04   \n",
       "1        1.949330e-04        1.937162e-06       2.812011e-05   \n",
       "2        2.097116e-07        1.374097e-07       3.049807e-07   \n",
       "3        2.114883e-05        1.329095e-05       4.488393e-05   \n",
       "4        4.597895e-04        1.302867e-05       1.143982e-05   \n",
       "\n",
       "   tunicate_doliolid_nurse  tunicate_partial  tunicate_salp  \\\n",
       "0             4.966095e-04      1.660838e-04   5.958547e-05   \n",
       "1             7.571453e-06      7.478124e-06   1.498823e-05   \n",
       "2             3.063449e-08      6.720381e-08   1.054258e-07   \n",
       "3             8.968076e-06      8.640799e-06   1.722641e-05   \n",
       "4             2.884000e-05      2.079332e-05   2.034839e-06   \n",
       "\n",
       "   tunicate_salp_chains  unknown_blobs_and_smudges  unknown_sticks  \\\n",
       "0          1.175805e-04               4.950612e-02    3.257264e-02   \n",
       "1          4.066806e-06               1.454615e-03    1.903448e-04   \n",
       "2          7.306875e-08               1.980857e-07    1.618938e-07   \n",
       "3          2.776372e-06               4.558141e-03    4.849955e-05   \n",
       "4          1.646845e-05               8.054617e-04    1.505875e-04   \n",
       "\n",
       "   unknown_unclassified  \n",
       "0              0.004217  \n",
       "1              0.000240  \n",
       "2              0.000008  \n",
       "3              0.000443  \n",
       "4              0.000063  \n",
       "\n",
       "[5 rows x 122 columns]"
      ]
     },
     "execution_count": 54,
     "metadata": {},
     "output_type": "execute_result"
    }
   ],
   "source": [
    "submit_df.columns = data.classes\n",
    "submit_df.insert(0, 'image', [fn for fn in os.listdir(f'{PATH}/test')])\n",
    "submit_df.head()"
   ]
  },
  {
   "cell_type": "code",
   "execution_count": 55,
   "metadata": {},
   "outputs": [
    {
     "data": {
      "text/html": [
       "<a href='submit/plankton.gz' target='_blank'>submit/plankton.gz</a><br>"
      ],
      "text/plain": [
       "C:\\Users\\I863552\\Documents\\fastai\\courses\\dl1\\kaggle\\submit\\plankton.gz"
      ]
     },
     "execution_count": 55,
     "metadata": {},
     "output_type": "execute_result"
    }
   ],
   "source": [
    "submit_df.to_csv(f'submit/plankton.gz', compression='gzip', index=False)\n",
    "FileLink(f'submit/plankton.gz')"
   ]
  },
  {
   "cell_type": "code",
   "execution_count": null,
   "metadata": {},
   "outputs": [],
   "source": []
  }
 ],
 "metadata": {
  "kernelspec": {
   "display_name": "Python 3",
   "language": "python",
   "name": "python3"
  },
  "language_info": {
   "codemirror_mode": {
    "name": "ipython",
    "version": 3
   },
   "file_extension": ".py",
   "mimetype": "text/x-python",
   "name": "python",
   "nbconvert_exporter": "python",
   "pygments_lexer": "ipython3",
   "version": "3.6.6"
  },
  "toc": {
   "base_numbering": 1,
   "nav_menu": {},
   "number_sections": true,
   "sideBar": true,
   "skip_h1_title": false,
   "title_cell": "Table of Contents",
   "title_sidebar": "Contents",
   "toc_cell": false,
   "toc_position": {},
   "toc_section_display": true,
   "toc_window_display": false
  }
 },
 "nbformat": 4,
 "nbformat_minor": 2
}
